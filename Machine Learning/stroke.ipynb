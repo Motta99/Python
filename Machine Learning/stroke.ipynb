{
 "cells": [
  {
   "cell_type": "code",
   "execution_count": 1,
   "metadata": {
    "_cell_guid": "b1076dfc-b9ad-4769-8c92-a6c4dae69d19",
    "_uuid": "8f2839f25d086af736a60e9eeb907d3b93b6e0e5",
    "execution": {
     "iopub.execute_input": "2021-05-27T23:02:35.10015Z",
     "iopub.status.busy": "2021-05-27T23:02:35.09975Z",
     "iopub.status.idle": "2021-05-27T23:02:35.111702Z",
     "shell.execute_reply": "2021-05-27T23:02:35.110706Z",
     "shell.execute_reply.started": "2021-05-27T23:02:35.100108Z"
    }
   },
   "outputs": [],
   "source": [
    "import numpy as np # linear algebra\n",
    "import pandas as pd # data processing, CSV file I/O (e.g. pd.read_csv)\n",
    "import matplotlib.pyplot as plt\n",
    "import seaborn as sns\n",
    "\n",
    "from sklearn.model_selection import train_test_split\n",
    "from sklearn.naive_bayes import GaussianNB\n",
    "from sklearn.tree import DecisionTreeClassifier\n",
    "from sklearn.neighbors import KNeighborsClassifier\n",
    "from sklearn.preprocessing import LabelEncoder, OneHotEncoder\n",
    "from sklearn.metrics import confusion_matrix, accuracy_score\n",
    "from sklearn.ensemble import RandomForestClassifier\n",
    "\n",
    "\n",
    "import os\n",
    "for dirname, _, filenames in os.walk('/kaggle/input'):\n",
    "    for filename in filenames:\n",
    "        print(os.path.join(dirname, filename))"
   ]
  },
  {
   "cell_type": "code",
   "execution_count": 2,
   "metadata": {
    "execution": {
     "iopub.execute_input": "2021-05-27T23:02:35.12494Z",
     "iopub.status.busy": "2021-05-27T23:02:35.124121Z",
     "iopub.status.idle": "2021-05-27T23:02:35.152401Z",
     "shell.execute_reply": "2021-05-27T23:02:35.151688Z",
     "shell.execute_reply.started": "2021-05-27T23:02:35.124892Z"
    }
   },
   "outputs": [
    {
     "data": {
      "text/html": [
       "<div>\n",
       "<style scoped>\n",
       "    .dataframe tbody tr th:only-of-type {\n",
       "        vertical-align: middle;\n",
       "    }\n",
       "\n",
       "    .dataframe tbody tr th {\n",
       "        vertical-align: top;\n",
       "    }\n",
       "\n",
       "    .dataframe thead th {\n",
       "        text-align: right;\n",
       "    }\n",
       "</style>\n",
       "<table border=\"1\" class=\"dataframe\">\n",
       "  <thead>\n",
       "    <tr style=\"text-align: right;\">\n",
       "      <th></th>\n",
       "      <th>id</th>\n",
       "      <th>gender</th>\n",
       "      <th>age</th>\n",
       "      <th>hypertension</th>\n",
       "      <th>heart_disease</th>\n",
       "      <th>ever_married</th>\n",
       "      <th>work_type</th>\n",
       "      <th>Residence_type</th>\n",
       "      <th>avg_glucose_level</th>\n",
       "      <th>bmi</th>\n",
       "      <th>smoking_status</th>\n",
       "      <th>stroke</th>\n",
       "    </tr>\n",
       "  </thead>\n",
       "  <tbody>\n",
       "    <tr>\n",
       "      <th>0</th>\n",
       "      <td>9046</td>\n",
       "      <td>Male</td>\n",
       "      <td>67.0</td>\n",
       "      <td>0</td>\n",
       "      <td>1</td>\n",
       "      <td>Yes</td>\n",
       "      <td>Private</td>\n",
       "      <td>Urban</td>\n",
       "      <td>228.69</td>\n",
       "      <td>36.6</td>\n",
       "      <td>formerly smoked</td>\n",
       "      <td>1</td>\n",
       "    </tr>\n",
       "    <tr>\n",
       "      <th>1</th>\n",
       "      <td>51676</td>\n",
       "      <td>Female</td>\n",
       "      <td>61.0</td>\n",
       "      <td>0</td>\n",
       "      <td>0</td>\n",
       "      <td>Yes</td>\n",
       "      <td>Self-employed</td>\n",
       "      <td>Rural</td>\n",
       "      <td>202.21</td>\n",
       "      <td>NaN</td>\n",
       "      <td>never smoked</td>\n",
       "      <td>1</td>\n",
       "    </tr>\n",
       "    <tr>\n",
       "      <th>2</th>\n",
       "      <td>31112</td>\n",
       "      <td>Male</td>\n",
       "      <td>80.0</td>\n",
       "      <td>0</td>\n",
       "      <td>1</td>\n",
       "      <td>Yes</td>\n",
       "      <td>Private</td>\n",
       "      <td>Rural</td>\n",
       "      <td>105.92</td>\n",
       "      <td>32.5</td>\n",
       "      <td>never smoked</td>\n",
       "      <td>1</td>\n",
       "    </tr>\n",
       "    <tr>\n",
       "      <th>3</th>\n",
       "      <td>60182</td>\n",
       "      <td>Female</td>\n",
       "      <td>49.0</td>\n",
       "      <td>0</td>\n",
       "      <td>0</td>\n",
       "      <td>Yes</td>\n",
       "      <td>Private</td>\n",
       "      <td>Urban</td>\n",
       "      <td>171.23</td>\n",
       "      <td>34.4</td>\n",
       "      <td>smokes</td>\n",
       "      <td>1</td>\n",
       "    </tr>\n",
       "    <tr>\n",
       "      <th>4</th>\n",
       "      <td>1665</td>\n",
       "      <td>Female</td>\n",
       "      <td>79.0</td>\n",
       "      <td>1</td>\n",
       "      <td>0</td>\n",
       "      <td>Yes</td>\n",
       "      <td>Self-employed</td>\n",
       "      <td>Rural</td>\n",
       "      <td>174.12</td>\n",
       "      <td>24.0</td>\n",
       "      <td>never smoked</td>\n",
       "      <td>1</td>\n",
       "    </tr>\n",
       "  </tbody>\n",
       "</table>\n",
       "</div>"
      ],
      "text/plain": [
       "      id  gender   age  hypertension  heart_disease ever_married  \\\n",
       "0   9046    Male  67.0             0              1          Yes   \n",
       "1  51676  Female  61.0             0              0          Yes   \n",
       "2  31112    Male  80.0             0              1          Yes   \n",
       "3  60182  Female  49.0             0              0          Yes   \n",
       "4   1665  Female  79.0             1              0          Yes   \n",
       "\n",
       "       work_type Residence_type  avg_glucose_level   bmi   smoking_status  \\\n",
       "0        Private          Urban             228.69  36.6  formerly smoked   \n",
       "1  Self-employed          Rural             202.21   NaN     never smoked   \n",
       "2        Private          Rural             105.92  32.5     never smoked   \n",
       "3        Private          Urban             171.23  34.4           smokes   \n",
       "4  Self-employed          Rural             174.12  24.0     never smoked   \n",
       "\n",
       "   stroke  \n",
       "0       1  \n",
       "1       1  \n",
       "2       1  \n",
       "3       1  \n",
       "4       1  "
      ]
     },
     "execution_count": 2,
     "metadata": {},
     "output_type": "execute_result"
    }
   ],
   "source": [
    "df = pd.read_csv(\"C:/Users/pedro.martins/OneDrive - Kestraa/25 do 12/Python Scripts/Machine Learning/Dados/healthcare-dataset-stroke-data.csv\")\n",
    "df.head()"
   ]
  },
  {
   "cell_type": "code",
   "execution_count": 3,
   "metadata": {
    "execution": {
     "iopub.execute_input": "2021-05-27T23:02:35.153899Z",
     "iopub.status.busy": "2021-05-27T23:02:35.153502Z",
     "iopub.status.idle": "2021-05-27T23:02:35.158341Z",
     "shell.execute_reply": "2021-05-27T23:02:35.157683Z",
     "shell.execute_reply.started": "2021-05-27T23:02:35.153858Z"
    }
   },
   "outputs": [],
   "source": [
    "df = df.drop(columns=[\"id\"])"
   ]
  },
  {
   "cell_type": "code",
   "execution_count": 4,
   "metadata": {
    "execution": {
     "iopub.execute_input": "2021-05-27T23:02:35.169645Z",
     "iopub.status.busy": "2021-05-27T23:02:35.169161Z",
     "iopub.status.idle": "2021-05-27T23:02:35.199148Z",
     "shell.execute_reply": "2021-05-27T23:02:35.198174Z",
     "shell.execute_reply.started": "2021-05-27T23:02:35.169598Z"
    }
   },
   "outputs": [
    {
     "data": {
      "text/html": [
       "<div>\n",
       "<style scoped>\n",
       "    .dataframe tbody tr th:only-of-type {\n",
       "        vertical-align: middle;\n",
       "    }\n",
       "\n",
       "    .dataframe tbody tr th {\n",
       "        vertical-align: top;\n",
       "    }\n",
       "\n",
       "    .dataframe thead th {\n",
       "        text-align: right;\n",
       "    }\n",
       "</style>\n",
       "<table border=\"1\" class=\"dataframe\">\n",
       "  <thead>\n",
       "    <tr style=\"text-align: right;\">\n",
       "      <th></th>\n",
       "      <th>age</th>\n",
       "      <th>hypertension</th>\n",
       "      <th>heart_disease</th>\n",
       "      <th>avg_glucose_level</th>\n",
       "      <th>bmi</th>\n",
       "      <th>stroke</th>\n",
       "    </tr>\n",
       "  </thead>\n",
       "  <tbody>\n",
       "    <tr>\n",
       "      <th>count</th>\n",
       "      <td>5110.000000</td>\n",
       "      <td>5110.000000</td>\n",
       "      <td>5110.000000</td>\n",
       "      <td>5110.000000</td>\n",
       "      <td>4909.000000</td>\n",
       "      <td>5110.000000</td>\n",
       "    </tr>\n",
       "    <tr>\n",
       "      <th>mean</th>\n",
       "      <td>43.226614</td>\n",
       "      <td>0.097456</td>\n",
       "      <td>0.054012</td>\n",
       "      <td>106.147677</td>\n",
       "      <td>28.893237</td>\n",
       "      <td>0.048728</td>\n",
       "    </tr>\n",
       "    <tr>\n",
       "      <th>std</th>\n",
       "      <td>22.612647</td>\n",
       "      <td>0.296607</td>\n",
       "      <td>0.226063</td>\n",
       "      <td>45.283560</td>\n",
       "      <td>7.854067</td>\n",
       "      <td>0.215320</td>\n",
       "    </tr>\n",
       "    <tr>\n",
       "      <th>min</th>\n",
       "      <td>0.080000</td>\n",
       "      <td>0.000000</td>\n",
       "      <td>0.000000</td>\n",
       "      <td>55.120000</td>\n",
       "      <td>10.300000</td>\n",
       "      <td>0.000000</td>\n",
       "    </tr>\n",
       "    <tr>\n",
       "      <th>25%</th>\n",
       "      <td>25.000000</td>\n",
       "      <td>0.000000</td>\n",
       "      <td>0.000000</td>\n",
       "      <td>77.245000</td>\n",
       "      <td>23.500000</td>\n",
       "      <td>0.000000</td>\n",
       "    </tr>\n",
       "    <tr>\n",
       "      <th>50%</th>\n",
       "      <td>45.000000</td>\n",
       "      <td>0.000000</td>\n",
       "      <td>0.000000</td>\n",
       "      <td>91.885000</td>\n",
       "      <td>28.100000</td>\n",
       "      <td>0.000000</td>\n",
       "    </tr>\n",
       "    <tr>\n",
       "      <th>75%</th>\n",
       "      <td>61.000000</td>\n",
       "      <td>0.000000</td>\n",
       "      <td>0.000000</td>\n",
       "      <td>114.090000</td>\n",
       "      <td>33.100000</td>\n",
       "      <td>0.000000</td>\n",
       "    </tr>\n",
       "    <tr>\n",
       "      <th>max</th>\n",
       "      <td>82.000000</td>\n",
       "      <td>1.000000</td>\n",
       "      <td>1.000000</td>\n",
       "      <td>271.740000</td>\n",
       "      <td>97.600000</td>\n",
       "      <td>1.000000</td>\n",
       "    </tr>\n",
       "  </tbody>\n",
       "</table>\n",
       "</div>"
      ],
      "text/plain": [
       "               age  hypertension  heart_disease  avg_glucose_level  \\\n",
       "count  5110.000000   5110.000000    5110.000000        5110.000000   \n",
       "mean     43.226614      0.097456       0.054012         106.147677   \n",
       "std      22.612647      0.296607       0.226063          45.283560   \n",
       "min       0.080000      0.000000       0.000000          55.120000   \n",
       "25%      25.000000      0.000000       0.000000          77.245000   \n",
       "50%      45.000000      0.000000       0.000000          91.885000   \n",
       "75%      61.000000      0.000000       0.000000         114.090000   \n",
       "max      82.000000      1.000000       1.000000         271.740000   \n",
       "\n",
       "               bmi       stroke  \n",
       "count  4909.000000  5110.000000  \n",
       "mean     28.893237     0.048728  \n",
       "std       7.854067     0.215320  \n",
       "min      10.300000     0.000000  \n",
       "25%      23.500000     0.000000  \n",
       "50%      28.100000     0.000000  \n",
       "75%      33.100000     0.000000  \n",
       "max      97.600000     1.000000  "
      ]
     },
     "execution_count": 4,
     "metadata": {},
     "output_type": "execute_result"
    }
   ],
   "source": [
    "df.describe()"
   ]
  },
  {
   "cell_type": "markdown",
   "metadata": {},
   "source": [
    "Verificando os dados faltantes"
   ]
  },
  {
   "cell_type": "code",
   "execution_count": 5,
   "metadata": {
    "execution": {
     "iopub.execute_input": "2021-05-27T23:02:35.234811Z",
     "iopub.status.busy": "2021-05-27T23:02:35.234223Z",
     "iopub.status.idle": "2021-05-27T23:02:35.24903Z",
     "shell.execute_reply": "2021-05-27T23:02:35.248227Z",
     "shell.execute_reply.started": "2021-05-27T23:02:35.234776Z"
    }
   },
   "outputs": [
    {
     "data": {
      "text/plain": [
       "gender                  3\n",
       "age                   104\n",
       "hypertension            2\n",
       "heart_disease           2\n",
       "ever_married            2\n",
       "work_type               5\n",
       "Residence_type          2\n",
       "avg_glucose_level    3979\n",
       "bmi                   418\n",
       "smoking_status          4\n",
       "stroke                  2\n",
       "dtype: int64"
      ]
     },
     "execution_count": 5,
     "metadata": {},
     "output_type": "execute_result"
    }
   ],
   "source": [
    "df.nunique()"
   ]
  },
  {
   "cell_type": "code",
   "execution_count": 6,
   "metadata": {
    "execution": {
     "iopub.execute_input": "2021-05-27T23:02:35.253343Z",
     "iopub.status.busy": "2021-05-27T23:02:35.253009Z",
     "iopub.status.idle": "2021-05-27T23:02:35.258303Z",
     "shell.execute_reply": "2021-05-27T23:02:35.257546Z",
     "shell.execute_reply.started": "2021-05-27T23:02:35.253313Z"
    }
   },
   "outputs": [
    {
     "data": {
      "text/plain": [
       "array(['Male', 'Female', 'Other'], dtype=object)"
      ]
     },
     "execution_count": 6,
     "metadata": {},
     "output_type": "execute_result"
    }
   ],
   "source": [
    "df.gender.unique()"
   ]
  },
  {
   "cell_type": "code",
   "execution_count": 7,
   "metadata": {
    "execution": {
     "iopub.execute_input": "2021-05-27T23:02:35.271677Z",
     "iopub.status.busy": "2021-05-27T23:02:35.271401Z",
     "iopub.status.idle": "2021-05-27T23:02:35.280039Z",
     "shell.execute_reply": "2021-05-27T23:02:35.279383Z",
     "shell.execute_reply.started": "2021-05-27T23:02:35.271651Z"
    }
   },
   "outputs": [
    {
     "data": {
      "text/plain": [
       "array(['Male', 'Female'], dtype=object)"
      ]
     },
     "execution_count": 7,
     "metadata": {},
     "output_type": "execute_result"
    }
   ],
   "source": [
    "drop = df[df[\"gender\"] == \"Other\"].index\n",
    "df.drop(drop, inplace = True)\n",
    "df.gender.unique()"
   ]
  },
  {
   "cell_type": "code",
   "execution_count": 8,
   "metadata": {
    "execution": {
     "iopub.execute_input": "2021-05-27T23:02:35.289676Z",
     "iopub.status.busy": "2021-05-27T23:02:35.28916Z",
     "iopub.status.idle": "2021-05-27T23:02:35.296302Z",
     "shell.execute_reply": "2021-05-27T23:02:35.295322Z",
     "shell.execute_reply.started": "2021-05-27T23:02:35.289628Z"
    }
   },
   "outputs": [
    {
     "data": {
      "text/plain": [
       "array(['Private', 'Self-employed', 'Govt_job', 'children', 'Never_worked'],\n",
       "      dtype=object)"
      ]
     },
     "execution_count": 8,
     "metadata": {},
     "output_type": "execute_result"
    }
   ],
   "source": [
    "df.work_type.unique()"
   ]
  },
  {
   "cell_type": "code",
   "execution_count": 9,
   "metadata": {
    "execution": {
     "iopub.execute_input": "2021-05-27T23:02:35.311519Z",
     "iopub.status.busy": "2021-05-27T23:02:35.311218Z",
     "iopub.status.idle": "2021-05-27T23:02:35.318753Z",
     "shell.execute_reply": "2021-05-27T23:02:35.317821Z",
     "shell.execute_reply.started": "2021-05-27T23:02:35.311491Z"
    }
   },
   "outputs": [
    {
     "data": {
      "text/plain": [
       "0       36.6\n",
       "1        NaN\n",
       "2       32.5\n",
       "3       34.4\n",
       "4       24.0\n",
       "        ... \n",
       "5105     NaN\n",
       "5106    40.0\n",
       "5107    30.6\n",
       "5108    25.6\n",
       "5109    26.2\n",
       "Name: bmi, Length: 5109, dtype: float64"
      ]
     },
     "execution_count": 9,
     "metadata": {},
     "output_type": "execute_result"
    }
   ],
   "source": [
    "df.bmi"
   ]
  },
  {
   "cell_type": "code",
   "execution_count": 10,
   "metadata": {
    "execution": {
     "iopub.execute_input": "2021-05-27T23:02:35.335794Z",
     "iopub.status.busy": "2021-05-27T23:02:35.3354Z",
     "iopub.status.idle": "2021-05-27T23:02:35.342814Z",
     "shell.execute_reply": "2021-05-27T23:02:35.342037Z",
     "shell.execute_reply.started": "2021-05-27T23:02:35.33576Z"
    }
   },
   "outputs": [
    {
     "data": {
      "text/plain": [
       "0       228.69\n",
       "1       202.21\n",
       "2       105.92\n",
       "3       171.23\n",
       "4       174.12\n",
       "         ...  \n",
       "5105     83.75\n",
       "5106    125.20\n",
       "5107     82.99\n",
       "5108    166.29\n",
       "5109     85.28\n",
       "Name: avg_glucose_level, Length: 5109, dtype: float64"
      ]
     },
     "execution_count": 10,
     "metadata": {},
     "output_type": "execute_result"
    }
   ],
   "source": [
    "df.avg_glucose_level"
   ]
  },
  {
   "cell_type": "code",
   "execution_count": 11,
   "metadata": {
    "execution": {
     "iopub.execute_input": "2021-05-27T23:02:35.415072Z",
     "iopub.status.busy": "2021-05-27T23:02:35.414607Z",
     "iopub.status.idle": "2021-05-27T23:02:35.425308Z",
     "shell.execute_reply": "2021-05-27T23:02:35.424449Z",
     "shell.execute_reply.started": "2021-05-27T23:02:35.415042Z"
    }
   },
   "outputs": [
    {
     "data": {
      "text/plain": [
       "gender                 0\n",
       "age                    0\n",
       "hypertension           0\n",
       "heart_disease          0\n",
       "ever_married           0\n",
       "work_type              0\n",
       "Residence_type         0\n",
       "avg_glucose_level      0\n",
       "bmi                  201\n",
       "smoking_status         0\n",
       "stroke                 0\n",
       "dtype: int64"
      ]
     },
     "execution_count": 11,
     "metadata": {},
     "output_type": "execute_result"
    }
   ],
   "source": [
    "df.isnull().sum()"
   ]
  },
  {
   "cell_type": "markdown",
   "metadata": {},
   "source": [
    "Substituindo os dados faltantes de bmi pela média"
   ]
  },
  {
   "cell_type": "code",
   "execution_count": 12,
   "metadata": {
    "execution": {
     "iopub.execute_input": "2021-05-27T23:02:35.485072Z",
     "iopub.status.busy": "2021-05-27T23:02:35.484575Z",
     "iopub.status.idle": "2021-05-27T23:02:35.515808Z",
     "shell.execute_reply": "2021-05-27T23:02:35.51487Z",
     "shell.execute_reply.started": "2021-05-27T23:02:35.485035Z"
    }
   },
   "outputs": [
    {
     "name": "stderr",
     "output_type": "stream",
     "text": [
      "C:\\Users\\PEDRO~1.MAR\\AppData\\Local\\Temp/ipykernel_7588/114435927.py:1: FutureWarning: Dropping of nuisance columns in DataFrame reductions (with 'numeric_only=None') is deprecated; in a future version this will raise TypeError.  Select only valid columns before calling the reduction.\n",
      "  df = df.fillna(df.mean())\n"
     ]
    }
   ],
   "source": [
    "df = df.fillna(df.mean())"
   ]
  },
  {
   "cell_type": "code",
   "execution_count": 13,
   "metadata": {
    "execution": {
     "iopub.execute_input": "2021-05-27T23:02:35.517592Z",
     "iopub.status.busy": "2021-05-27T23:02:35.517106Z",
     "iopub.status.idle": "2021-05-27T23:02:35.529653Z",
     "shell.execute_reply": "2021-05-27T23:02:35.528908Z",
     "shell.execute_reply.started": "2021-05-27T23:02:35.517557Z"
    }
   },
   "outputs": [
    {
     "data": {
      "text/plain": [
       "gender               0\n",
       "age                  0\n",
       "hypertension         0\n",
       "heart_disease        0\n",
       "ever_married         0\n",
       "work_type            0\n",
       "Residence_type       0\n",
       "avg_glucose_level    0\n",
       "bmi                  0\n",
       "smoking_status       0\n",
       "stroke               0\n",
       "dtype: int64"
      ]
     },
     "execution_count": 13,
     "metadata": {},
     "output_type": "execute_result"
    }
   ],
   "source": [
    "df.isnull().sum()"
   ]
  },
  {
   "cell_type": "markdown",
   "metadata": {},
   "source": [
    "# Visualização"
   ]
  },
  {
   "cell_type": "code",
   "execution_count": 14,
   "metadata": {
    "execution": {
     "iopub.execute_input": "2021-05-27T23:02:35.606009Z",
     "iopub.status.busy": "2021-05-27T23:02:35.605546Z",
     "iopub.status.idle": "2021-05-27T23:02:36.343263Z",
     "shell.execute_reply": "2021-05-27T23:02:36.342556Z",
     "shell.execute_reply.started": "2021-05-27T23:02:35.60598Z"
    }
   },
   "outputs": [
    {
     "data": {
      "text/plain": [
       "<seaborn.axisgrid.FacetGrid at 0x19854c5dd60>"
      ]
     },
     "execution_count": 14,
     "metadata": {},
     "output_type": "execute_result"
    },
    {
     "data": {
      "image/png": "[encoded data removed]",
      "text/plain": [
       "<Figure size 762.375x360 with 2 Axes>"
      ]
     },
     "metadata": {
      "needs_background": "light"
     },
     "output_type": "display_data"
    }
   ],
   "source": [
    "sns.displot(df, x=\"age\",col=\"gender\", hue=\"stroke\",  multiple=\"dodge\")"
   ]
  },
  {
   "cell_type": "code",
   "execution_count": 15,
   "metadata": {
    "execution": {
     "iopub.execute_input": "2021-05-27T23:02:36.344655Z",
     "iopub.status.busy": "2021-05-27T23:02:36.344318Z",
     "iopub.status.idle": "2021-05-27T23:02:36.904556Z",
     "shell.execute_reply": "2021-05-27T23:02:36.903913Z",
     "shell.execute_reply.started": "2021-05-27T23:02:36.344629Z"
    }
   },
   "outputs": [
    {
     "data": {
      "text/plain": [
       "<seaborn.axisgrid.FacetGrid at 0x198559f1fa0>"
      ]
     },
     "execution_count": 15,
     "metadata": {},
     "output_type": "execute_result"
    },
    {
     "data": {
      "image/png": "[encoded data removed]",
      "text/plain": [
       "<Figure size 762.375x360 with 2 Axes>"
      ]
     },
     "metadata": {
      "needs_background": "light"
     },
     "output_type": "display_data"
    }
   ],
   "source": [
    "sns.displot(df, x=\"smoking_status\", hue=\"stroke\", col=\"gender\", multiple=\"dodge\")\n"
   ]
  },
  {
   "cell_type": "code",
   "execution_count": 16,
   "metadata": {
    "execution": {
     "iopub.execute_input": "2021-05-27T23:02:36.906291Z",
     "iopub.status.busy": "2021-05-27T23:02:36.905892Z",
     "iopub.status.idle": "2021-05-27T23:02:38.276771Z",
     "shell.execute_reply": "2021-05-27T23:02:38.275874Z",
     "shell.execute_reply.started": "2021-05-27T23:02:36.906264Z"
    }
   },
   "outputs": [
    {
     "data": {
      "text/plain": [
       "<seaborn.axisgrid.FacetGrid at 0x198556e8e20>"
      ]
     },
     "execution_count": 16,
     "metadata": {},
     "output_type": "execute_result"
    },
    {
     "data": {
      "image/png": "[encoded data removed]",
      "text/plain": [
       "<Figure size 762.375x360 with 2 Axes>"
      ]
     },
     "metadata": {
      "needs_background": "light"
     },
     "output_type": "display_data"
    }
   ],
   "source": [
    "sns.displot(df, x=\"bmi\", hue=\"stroke\", col=\"gender\", multiple=\"dodge\")"
   ]
  },
  {
   "cell_type": "code",
   "execution_count": 17,
   "metadata": {
    "execution": {
     "iopub.execute_input": "2021-05-27T23:02:38.278503Z",
     "iopub.status.busy": "2021-05-27T23:02:38.278222Z",
     "iopub.status.idle": "2021-05-27T23:02:39.31204Z",
     "shell.execute_reply": "2021-05-27T23:02:39.31119Z",
     "shell.execute_reply.started": "2021-05-27T23:02:38.278475Z"
    }
   },
   "outputs": [
    {
     "data": {
      "text/plain": [
       "<seaborn.axisgrid.FacetGrid at 0x198505d7d30>"
      ]
     },
     "execution_count": 17,
     "metadata": {},
     "output_type": "execute_result"
    },
    {
     "data": {
      "image/png": "[encoded data removed]",
      "text/plain": [
       "<Figure size 762.375x360 with 2 Axes>"
      ]
     },
     "metadata": {
      "needs_background": "light"
     },
     "output_type": "display_data"
    }
   ],
   "source": [
    "sns.displot(df, x=\"avg_glucose_level\", hue=\"stroke\", col=\"gender\", multiple=\"dodge\")"
   ]
  },
  {
   "cell_type": "code",
   "execution_count": 18,
   "metadata": {
    "execution": {
     "iopub.execute_input": "2021-05-27T23:02:39.313554Z",
     "iopub.status.busy": "2021-05-27T23:02:39.313271Z",
     "iopub.status.idle": "2021-05-27T23:02:39.825003Z",
     "shell.execute_reply": "2021-05-27T23:02:39.82416Z",
     "shell.execute_reply.started": "2021-05-27T23:02:39.313525Z"
    }
   },
   "outputs": [
    {
     "data": {
      "text/plain": [
       "<seaborn.axisgrid.FacetGrid at 0x19856de7df0>"
      ]
     },
     "execution_count": 18,
     "metadata": {},
     "output_type": "execute_result"
    },
    {
     "data": {
      "image/png": "[encoded data removed]",
      "text/plain": [
       "<Figure size 762.375x360 with 2 Axes>"
      ]
     },
     "metadata": {
      "needs_background": "light"
     },
     "output_type": "display_data"
    }
   ],
   "source": [
    "sns.displot(df, x=\"Residence_type\", hue=\"stroke\", col=\"gender\", multiple=\"dodge\")"
   ]
  },
  {
   "cell_type": "markdown",
   "metadata": {},
   "source": [
    "* id = deleta\n",
    "* age = classificar a categoria com intervalos de 20 anos\n",
    "* avg_glucose_level = classificar a categoria pelo box plot\n",
    "* bmi = classificar a categoria pelo box plot\n",
    "* work_type = one hot encouding\n",
    "* smoking_status = one hot encouding\n",
    "* ever_married = binario            \n",
    "* Residence_type = binario"
   ]
  },
  {
   "cell_type": "code",
   "execution_count": 19,
   "metadata": {
    "execution": {
     "iopub.execute_input": "2021-05-27T23:02:39.826487Z",
     "iopub.status.busy": "2021-05-27T23:02:39.826209Z",
     "iopub.status.idle": "2021-05-27T23:02:39.831449Z",
     "shell.execute_reply": "2021-05-27T23:02:39.830295Z",
     "shell.execute_reply.started": "2021-05-27T23:02:39.826458Z"
    }
   },
   "outputs": [],
   "source": [
    "def classificadorIdade(x):\n",
    "    if x < 20:\n",
    "        return 1 #\"< 20\"\n",
    "    \n",
    "    if x < 40:\n",
    "        return 2 #\"de 20 a 39\"\n",
    "    \n",
    "    if x < 60:\n",
    "        return 3 #\"de 40 a 59\"\n",
    "    \n",
    "    if x < 80:\n",
    "        return 4 #\"de 60 a 79\"\n",
    "    \n",
    "    if x <= 100:\n",
    "        return 5 #\"de 80 a 100\""
   ]
  },
  {
   "cell_type": "code",
   "execution_count": 20,
   "metadata": {
    "execution": {
     "iopub.execute_input": "2021-05-27T23:02:39.832934Z",
     "iopub.status.busy": "2021-05-27T23:02:39.832576Z",
     "iopub.status.idle": "2021-05-27T23:02:39.847967Z",
     "shell.execute_reply": "2021-05-27T23:02:39.847311Z",
     "shell.execute_reply.started": "2021-05-27T23:02:39.832886Z"
    }
   },
   "outputs": [],
   "source": [
    "df['age'] = df['age'].apply(lambda x: classificadorIdade(x))"
   ]
  },
  {
   "cell_type": "code",
   "execution_count": 21,
   "metadata": {
    "execution": {
     "iopub.execute_input": "2021-05-27T23:02:39.850344Z",
     "iopub.status.busy": "2021-05-27T23:02:39.849832Z",
     "iopub.status.idle": "2021-05-27T23:02:39.858218Z",
     "shell.execute_reply": "2021-05-27T23:02:39.857351Z",
     "shell.execute_reply.started": "2021-05-27T23:02:39.850316Z"
    }
   },
   "outputs": [
    {
     "data": {
      "text/plain": [
       "array([4, 5, 3, 2, 1], dtype=int64)"
      ]
     },
     "execution_count": 21,
     "metadata": {},
     "output_type": "execute_result"
    }
   ],
   "source": [
    "df.age.unique()"
   ]
  },
  {
   "cell_type": "code",
   "execution_count": 22,
   "metadata": {
    "execution": {
     "iopub.execute_input": "2021-05-27T23:02:39.859926Z",
     "iopub.status.busy": "2021-05-27T23:02:39.859556Z",
     "iopub.status.idle": "2021-05-27T23:02:39.871654Z",
     "shell.execute_reply": "2021-05-27T23:02:39.870625Z",
     "shell.execute_reply.started": "2021-05-27T23:02:39.859899Z"
    }
   },
   "outputs": [
    {
     "data": {
      "text/plain": [
       "count    5109.000000\n",
       "mean       28.894560\n",
       "std         7.698235\n",
       "min        10.300000\n",
       "25%        23.800000\n",
       "50%        28.400000\n",
       "75%        32.800000\n",
       "max        97.600000\n",
       "Name: bmi, dtype: float64"
      ]
     },
     "execution_count": 22,
     "metadata": {},
     "output_type": "execute_result"
    }
   ],
   "source": [
    "df.bmi.describe()"
   ]
  },
  {
   "cell_type": "code",
   "execution_count": 23,
   "metadata": {
    "execution": {
     "iopub.execute_input": "2021-05-27T23:02:39.873331Z",
     "iopub.status.busy": "2021-05-27T23:02:39.872931Z",
     "iopub.status.idle": "2021-05-27T23:02:39.88516Z",
     "shell.execute_reply": "2021-05-27T23:02:39.88393Z",
     "shell.execute_reply.started": "2021-05-27T23:02:39.873288Z"
    }
   },
   "outputs": [
    {
     "data": {
      "text/plain": [
       "count    5109.000000\n",
       "mean      106.140399\n",
       "std        45.285004\n",
       "min        55.120000\n",
       "25%        77.240000\n",
       "50%        91.880000\n",
       "75%       114.090000\n",
       "max       271.740000\n",
       "Name: avg_glucose_level, dtype: float64"
      ]
     },
     "execution_count": 23,
     "metadata": {},
     "output_type": "execute_result"
    }
   ],
   "source": [
    "df.avg_glucose_level.describe()"
   ]
  },
  {
   "cell_type": "code",
   "execution_count": 24,
   "metadata": {
    "execution": {
     "iopub.execute_input": "2021-05-27T23:02:39.88703Z",
     "iopub.status.busy": "2021-05-27T23:02:39.886527Z",
     "iopub.status.idle": "2021-05-27T23:02:39.893138Z",
     "shell.execute_reply": "2021-05-27T23:02:39.89203Z",
     "shell.execute_reply.started": "2021-05-27T23:02:39.886987Z"
    }
   },
   "outputs": [],
   "source": [
    "def classificadorAVG(x):\n",
    "    if x <= 77.245:\n",
    "        return '<= 25%'\n",
    "    \n",
    "    if x <= 91.885:\n",
    "        return 'entre 26% a 50%'\n",
    "    \n",
    "    if x <= 114.09:\n",
    "        return 'entre 50% a 75%'\n",
    "    \n",
    "    else: return '>= 76%'\n",
    "    \n",
    "    \n",
    "def classificadorBMI(x):\n",
    "    if x <= 23.8:\n",
    "        return '<= 25%'\n",
    "    \n",
    "    if x <= 28.4:\n",
    "        return 'entre 26% a 50%'\n",
    "    \n",
    "    if x <= 32.8:\n",
    "        return 'entre 50% a 75%'\n",
    "    \n",
    "    else: return '>= 76%'"
   ]
  },
  {
   "cell_type": "code",
   "execution_count": 25,
   "metadata": {
    "execution": {
     "iopub.execute_input": "2021-05-27T23:02:39.895534Z",
     "iopub.status.busy": "2021-05-27T23:02:39.894965Z",
     "iopub.status.idle": "2021-05-27T23:02:39.910864Z",
     "shell.execute_reply": "2021-05-27T23:02:39.909885Z",
     "shell.execute_reply.started": "2021-05-27T23:02:39.895493Z"
    }
   },
   "outputs": [],
   "source": [
    "df['avg_glucose_level'] = df['avg_glucose_level'].apply(lambda x: classificadorAVG(x))\n",
    "df['bmi'] = df['bmi'].apply(lambda x: classificadorBMI(x))"
   ]
  },
  {
   "cell_type": "code",
   "execution_count": 26,
   "metadata": {
    "execution": {
     "iopub.execute_input": "2021-05-27T23:02:39.91231Z",
     "iopub.status.busy": "2021-05-27T23:02:39.912Z",
     "iopub.status.idle": "2021-05-27T23:02:39.917741Z",
     "shell.execute_reply": "2021-05-27T23:02:39.916789Z",
     "shell.execute_reply.started": "2021-05-27T23:02:39.912284Z"
    }
   },
   "outputs": [
    {
     "name": "stdout",
     "output_type": "stream",
     "text": [
      "BMI:\n",
      "['>= 76%' 'entre 50% a 75%' 'entre 26% a 50%' '<= 25%'] \n",
      "\n",
      "avg_glucose_level:\n",
      "['>= 76%' 'entre 50% a 75%' '<= 25%' 'entre 26% a 50%']\n"
     ]
    }
   ],
   "source": [
    "print(f'BMI:\\n{df.bmi.unique()} \\n\\navg_glucose_level:\\n{df.avg_glucose_level.unique()}')"
   ]
  },
  {
   "cell_type": "code",
   "execution_count": 28,
   "metadata": {
    "execution": {
     "iopub.execute_input": "2021-05-27T23:02:39.918969Z",
     "iopub.status.busy": "2021-05-27T23:02:39.918709Z",
     "iopub.status.idle": "2021-05-27T23:02:39.932834Z",
     "shell.execute_reply": "2021-05-27T23:02:39.932149Z",
     "shell.execute_reply.started": "2021-05-27T23:02:39.918944Z"
    }
   },
   "outputs": [],
   "source": [
    "labelencoder = LabelEncoder()\n",
    "\n",
    "df[\"gender\"] = labelencoder.fit_transform(df[\"gender\"])\n",
    "df[\"ever_married\"] = labelencoder.fit_transform(df[\"ever_married\"])\n",
    "df[\"Residence_type\"] = labelencoder.fit_transform(df[\"Residence_type\"])"
   ]
  },
  {
   "cell_type": "code",
   "execution_count": 29,
   "metadata": {
    "execution": {
     "iopub.execute_input": "2021-05-27T23:02:39.934106Z",
     "iopub.status.busy": "2021-05-27T23:02:39.933734Z",
     "iopub.status.idle": "2021-05-27T23:02:39.952494Z",
     "shell.execute_reply": "2021-05-27T23:02:39.951783Z",
     "shell.execute_reply.started": "2021-05-27T23:02:39.934064Z"
    }
   },
   "outputs": [
    {
     "data": {
      "text/html": [
       "<div>\n",
       "<style scoped>\n",
       "    .dataframe tbody tr th:only-of-type {\n",
       "        vertical-align: middle;\n",
       "    }\n",
       "\n",
       "    .dataframe tbody tr th {\n",
       "        vertical-align: top;\n",
       "    }\n",
       "\n",
       "    .dataframe thead th {\n",
       "        text-align: right;\n",
       "    }\n",
       "</style>\n",
       "<table border=\"1\" class=\"dataframe\">\n",
       "  <thead>\n",
       "    <tr style=\"text-align: right;\">\n",
       "      <th></th>\n",
       "      <th>avg_glucose_level_cod_&lt;= 25%</th>\n",
       "      <th>avg_glucose_level_cod_&gt;= 76%</th>\n",
       "      <th>avg_glucose_level_cod_entre 26% a 50%</th>\n",
       "      <th>avg_glucose_level_cod_entre 50% a 75%</th>\n",
       "    </tr>\n",
       "  </thead>\n",
       "  <tbody>\n",
       "    <tr>\n",
       "      <th>0</th>\n",
       "      <td>0</td>\n",
       "      <td>1</td>\n",
       "      <td>0</td>\n",
       "      <td>0</td>\n",
       "    </tr>\n",
       "    <tr>\n",
       "      <th>1</th>\n",
       "      <td>0</td>\n",
       "      <td>1</td>\n",
       "      <td>0</td>\n",
       "      <td>0</td>\n",
       "    </tr>\n",
       "    <tr>\n",
       "      <th>2</th>\n",
       "      <td>0</td>\n",
       "      <td>0</td>\n",
       "      <td>0</td>\n",
       "      <td>1</td>\n",
       "    </tr>\n",
       "    <tr>\n",
       "      <th>3</th>\n",
       "      <td>0</td>\n",
       "      <td>1</td>\n",
       "      <td>0</td>\n",
       "      <td>0</td>\n",
       "    </tr>\n",
       "    <tr>\n",
       "      <th>4</th>\n",
       "      <td>0</td>\n",
       "      <td>1</td>\n",
       "      <td>0</td>\n",
       "      <td>0</td>\n",
       "    </tr>\n",
       "    <tr>\n",
       "      <th>...</th>\n",
       "      <td>...</td>\n",
       "      <td>...</td>\n",
       "      <td>...</td>\n",
       "      <td>...</td>\n",
       "    </tr>\n",
       "    <tr>\n",
       "      <th>5105</th>\n",
       "      <td>0</td>\n",
       "      <td>0</td>\n",
       "      <td>1</td>\n",
       "      <td>0</td>\n",
       "    </tr>\n",
       "    <tr>\n",
       "      <th>5106</th>\n",
       "      <td>0</td>\n",
       "      <td>1</td>\n",
       "      <td>0</td>\n",
       "      <td>0</td>\n",
       "    </tr>\n",
       "    <tr>\n",
       "      <th>5107</th>\n",
       "      <td>0</td>\n",
       "      <td>0</td>\n",
       "      <td>1</td>\n",
       "      <td>0</td>\n",
       "    </tr>\n",
       "    <tr>\n",
       "      <th>5108</th>\n",
       "      <td>0</td>\n",
       "      <td>1</td>\n",
       "      <td>0</td>\n",
       "      <td>0</td>\n",
       "    </tr>\n",
       "    <tr>\n",
       "      <th>5109</th>\n",
       "      <td>0</td>\n",
       "      <td>0</td>\n",
       "      <td>1</td>\n",
       "      <td>0</td>\n",
       "    </tr>\n",
       "  </tbody>\n",
       "</table>\n",
       "<p>5109 rows × 4 columns</p>\n",
       "</div>"
      ],
      "text/plain": [
       "      avg_glucose_level_cod_<= 25%  avg_glucose_level_cod_>= 76%  \\\n",
       "0                                0                             1   \n",
       "1                                0                             1   \n",
       "2                                0                             0   \n",
       "3                                0                             1   \n",
       "4                                0                             1   \n",
       "...                            ...                           ...   \n",
       "5105                             0                             0   \n",
       "5106                             0                             1   \n",
       "5107                             0                             0   \n",
       "5108                             0                             1   \n",
       "5109                             0                             0   \n",
       "\n",
       "      avg_glucose_level_cod_entre 26% a 50%  \\\n",
       "0                                         0   \n",
       "1                                         0   \n",
       "2                                         0   \n",
       "3                                         0   \n",
       "4                                         0   \n",
       "...                                     ...   \n",
       "5105                                      1   \n",
       "5106                                      0   \n",
       "5107                                      1   \n",
       "5108                                      0   \n",
       "5109                                      1   \n",
       "\n",
       "      avg_glucose_level_cod_entre 50% a 75%  \n",
       "0                                         0  \n",
       "1                                         0  \n",
       "2                                         1  \n",
       "3                                         0  \n",
       "4                                         0  \n",
       "...                                     ...  \n",
       "5105                                      0  \n",
       "5106                                      0  \n",
       "5107                                      0  \n",
       "5108                                      0  \n",
       "5109                                      0  \n",
       "\n",
       "[5109 rows x 4 columns]"
      ]
     },
     "execution_count": 29,
     "metadata": {},
     "output_type": "execute_result"
    }
   ],
   "source": [
    "df['avg_glucose_level'] = pd.Categorical(df['avg_glucose_level'])\n",
    "dfavg = pd.get_dummies(df['avg_glucose_level'], prefix = 'avg_glucose_level_cod')\n",
    "dfavg"
   ]
  },
  {
   "cell_type": "code",
   "execution_count": 30,
   "metadata": {
    "execution": {
     "iopub.execute_input": "2021-05-27T23:02:39.953691Z",
     "iopub.status.busy": "2021-05-27T23:02:39.953443Z",
     "iopub.status.idle": "2021-05-27T23:02:39.966811Z",
     "shell.execute_reply": "2021-05-27T23:02:39.966098Z",
     "shell.execute_reply.started": "2021-05-27T23:02:39.953667Z"
    }
   },
   "outputs": [
    {
     "data": {
      "text/html": [
       "<div>\n",
       "<style scoped>\n",
       "    .dataframe tbody tr th:only-of-type {\n",
       "        vertical-align: middle;\n",
       "    }\n",
       "\n",
       "    .dataframe tbody tr th {\n",
       "        vertical-align: top;\n",
       "    }\n",
       "\n",
       "    .dataframe thead th {\n",
       "        text-align: right;\n",
       "    }\n",
       "</style>\n",
       "<table border=\"1\" class=\"dataframe\">\n",
       "  <thead>\n",
       "    <tr style=\"text-align: right;\">\n",
       "      <th></th>\n",
       "      <th>bmi_cod_&lt;= 25%</th>\n",
       "      <th>bmi_cod_&gt;= 76%</th>\n",
       "      <th>bmi_cod_entre 26% a 50%</th>\n",
       "      <th>bmi_cod_entre 50% a 75%</th>\n",
       "    </tr>\n",
       "  </thead>\n",
       "  <tbody>\n",
       "    <tr>\n",
       "      <th>0</th>\n",
       "      <td>0</td>\n",
       "      <td>1</td>\n",
       "      <td>0</td>\n",
       "      <td>0</td>\n",
       "    </tr>\n",
       "    <tr>\n",
       "      <th>1</th>\n",
       "      <td>0</td>\n",
       "      <td>0</td>\n",
       "      <td>0</td>\n",
       "      <td>1</td>\n",
       "    </tr>\n",
       "    <tr>\n",
       "      <th>2</th>\n",
       "      <td>0</td>\n",
       "      <td>0</td>\n",
       "      <td>0</td>\n",
       "      <td>1</td>\n",
       "    </tr>\n",
       "    <tr>\n",
       "      <th>3</th>\n",
       "      <td>0</td>\n",
       "      <td>1</td>\n",
       "      <td>0</td>\n",
       "      <td>0</td>\n",
       "    </tr>\n",
       "    <tr>\n",
       "      <th>4</th>\n",
       "      <td>0</td>\n",
       "      <td>0</td>\n",
       "      <td>1</td>\n",
       "      <td>0</td>\n",
       "    </tr>\n",
       "    <tr>\n",
       "      <th>...</th>\n",
       "      <td>...</td>\n",
       "      <td>...</td>\n",
       "      <td>...</td>\n",
       "      <td>...</td>\n",
       "    </tr>\n",
       "    <tr>\n",
       "      <th>5105</th>\n",
       "      <td>0</td>\n",
       "      <td>0</td>\n",
       "      <td>0</td>\n",
       "      <td>1</td>\n",
       "    </tr>\n",
       "    <tr>\n",
       "      <th>5106</th>\n",
       "      <td>0</td>\n",
       "      <td>1</td>\n",
       "      <td>0</td>\n",
       "      <td>0</td>\n",
       "    </tr>\n",
       "    <tr>\n",
       "      <th>5107</th>\n",
       "      <td>0</td>\n",
       "      <td>0</td>\n",
       "      <td>0</td>\n",
       "      <td>1</td>\n",
       "    </tr>\n",
       "    <tr>\n",
       "      <th>5108</th>\n",
       "      <td>0</td>\n",
       "      <td>0</td>\n",
       "      <td>1</td>\n",
       "      <td>0</td>\n",
       "    </tr>\n",
       "    <tr>\n",
       "      <th>5109</th>\n",
       "      <td>0</td>\n",
       "      <td>0</td>\n",
       "      <td>1</td>\n",
       "      <td>0</td>\n",
       "    </tr>\n",
       "  </tbody>\n",
       "</table>\n",
       "<p>5109 rows × 4 columns</p>\n",
       "</div>"
      ],
      "text/plain": [
       "      bmi_cod_<= 25%  bmi_cod_>= 76%  bmi_cod_entre 26% a 50%  \\\n",
       "0                  0               1                        0   \n",
       "1                  0               0                        0   \n",
       "2                  0               0                        0   \n",
       "3                  0               1                        0   \n",
       "4                  0               0                        1   \n",
       "...              ...             ...                      ...   \n",
       "5105               0               0                        0   \n",
       "5106               0               1                        0   \n",
       "5107               0               0                        0   \n",
       "5108               0               0                        1   \n",
       "5109               0               0                        1   \n",
       "\n",
       "      bmi_cod_entre 50% a 75%  \n",
       "0                           0  \n",
       "1                           1  \n",
       "2                           1  \n",
       "3                           0  \n",
       "4                           0  \n",
       "...                       ...  \n",
       "5105                        1  \n",
       "5106                        0  \n",
       "5107                        1  \n",
       "5108                        0  \n",
       "5109                        0  \n",
       "\n",
       "[5109 rows x 4 columns]"
      ]
     },
     "execution_count": 30,
     "metadata": {},
     "output_type": "execute_result"
    }
   ],
   "source": [
    "df['bmi'] = pd.Categorical(df['bmi'])\n",
    "dfbmi = pd.get_dummies(df['bmi'], prefix = 'bmi_cod')\n",
    "dfbmi"
   ]
  },
  {
   "cell_type": "code",
   "execution_count": 31,
   "metadata": {
    "execution": {
     "iopub.execute_input": "2021-05-27T23:02:39.968428Z",
     "iopub.status.busy": "2021-05-27T23:02:39.968043Z",
     "iopub.status.idle": "2021-05-27T23:02:39.982997Z",
     "shell.execute_reply": "2021-05-27T23:02:39.981972Z",
     "shell.execute_reply.started": "2021-05-27T23:02:39.96839Z"
    }
   },
   "outputs": [
    {
     "data": {
      "text/html": [
       "<div>\n",
       "<style scoped>\n",
       "    .dataframe tbody tr th:only-of-type {\n",
       "        vertical-align: middle;\n",
       "    }\n",
       "\n",
       "    .dataframe tbody tr th {\n",
       "        vertical-align: top;\n",
       "    }\n",
       "\n",
       "    .dataframe thead th {\n",
       "        text-align: right;\n",
       "    }\n",
       "</style>\n",
       "<table border=\"1\" class=\"dataframe\">\n",
       "  <thead>\n",
       "    <tr style=\"text-align: right;\">\n",
       "      <th></th>\n",
       "      <th>work_type_cod_Unknown</th>\n",
       "      <th>work_type_cod_formerly smoked</th>\n",
       "      <th>work_type_cod_never smoked</th>\n",
       "      <th>work_type_cod_smokes</th>\n",
       "    </tr>\n",
       "  </thead>\n",
       "  <tbody>\n",
       "    <tr>\n",
       "      <th>0</th>\n",
       "      <td>0</td>\n",
       "      <td>1</td>\n",
       "      <td>0</td>\n",
       "      <td>0</td>\n",
       "    </tr>\n",
       "    <tr>\n",
       "      <th>1</th>\n",
       "      <td>0</td>\n",
       "      <td>0</td>\n",
       "      <td>1</td>\n",
       "      <td>0</td>\n",
       "    </tr>\n",
       "    <tr>\n",
       "      <th>2</th>\n",
       "      <td>0</td>\n",
       "      <td>0</td>\n",
       "      <td>1</td>\n",
       "      <td>0</td>\n",
       "    </tr>\n",
       "    <tr>\n",
       "      <th>3</th>\n",
       "      <td>0</td>\n",
       "      <td>0</td>\n",
       "      <td>0</td>\n",
       "      <td>1</td>\n",
       "    </tr>\n",
       "    <tr>\n",
       "      <th>4</th>\n",
       "      <td>0</td>\n",
       "      <td>0</td>\n",
       "      <td>1</td>\n",
       "      <td>0</td>\n",
       "    </tr>\n",
       "    <tr>\n",
       "      <th>...</th>\n",
       "      <td>...</td>\n",
       "      <td>...</td>\n",
       "      <td>...</td>\n",
       "      <td>...</td>\n",
       "    </tr>\n",
       "    <tr>\n",
       "      <th>5105</th>\n",
       "      <td>0</td>\n",
       "      <td>0</td>\n",
       "      <td>1</td>\n",
       "      <td>0</td>\n",
       "    </tr>\n",
       "    <tr>\n",
       "      <th>5106</th>\n",
       "      <td>0</td>\n",
       "      <td>0</td>\n",
       "      <td>1</td>\n",
       "      <td>0</td>\n",
       "    </tr>\n",
       "    <tr>\n",
       "      <th>5107</th>\n",
       "      <td>0</td>\n",
       "      <td>0</td>\n",
       "      <td>1</td>\n",
       "      <td>0</td>\n",
       "    </tr>\n",
       "    <tr>\n",
       "      <th>5108</th>\n",
       "      <td>0</td>\n",
       "      <td>1</td>\n",
       "      <td>0</td>\n",
       "      <td>0</td>\n",
       "    </tr>\n",
       "    <tr>\n",
       "      <th>5109</th>\n",
       "      <td>1</td>\n",
       "      <td>0</td>\n",
       "      <td>0</td>\n",
       "      <td>0</td>\n",
       "    </tr>\n",
       "  </tbody>\n",
       "</table>\n",
       "<p>5109 rows × 4 columns</p>\n",
       "</div>"
      ],
      "text/plain": [
       "      work_type_cod_Unknown  work_type_cod_formerly smoked  \\\n",
       "0                         0                              1   \n",
       "1                         0                              0   \n",
       "2                         0                              0   \n",
       "3                         0                              0   \n",
       "4                         0                              0   \n",
       "...                     ...                            ...   \n",
       "5105                      0                              0   \n",
       "5106                      0                              0   \n",
       "5107                      0                              0   \n",
       "5108                      0                              1   \n",
       "5109                      1                              0   \n",
       "\n",
       "      work_type_cod_never smoked  work_type_cod_smokes  \n",
       "0                              0                     0  \n",
       "1                              1                     0  \n",
       "2                              1                     0  \n",
       "3                              0                     1  \n",
       "4                              1                     0  \n",
       "...                          ...                   ...  \n",
       "5105                           1                     0  \n",
       "5106                           1                     0  \n",
       "5107                           1                     0  \n",
       "5108                           0                     0  \n",
       "5109                           0                     0  \n",
       "\n",
       "[5109 rows x 4 columns]"
      ]
     },
     "execution_count": 31,
     "metadata": {},
     "output_type": "execute_result"
    }
   ],
   "source": [
    "df['work_type'] = pd.Categorical(df['work_type'])\n",
    "dfwork = pd.get_dummies(df['smoking_status'], prefix = 'work_type_cod')\n",
    "dfwork"
   ]
  },
  {
   "cell_type": "code",
   "execution_count": 32,
   "metadata": {
    "execution": {
     "iopub.execute_input": "2021-05-27T23:02:39.984272Z",
     "iopub.status.busy": "2021-05-27T23:02:39.983995Z",
     "iopub.status.idle": "2021-05-27T23:02:39.997624Z",
     "shell.execute_reply": "2021-05-27T23:02:39.996705Z",
     "shell.execute_reply.started": "2021-05-27T23:02:39.984246Z"
    }
   },
   "outputs": [
    {
     "data": {
      "text/html": [
       "<div>\n",
       "<style scoped>\n",
       "    .dataframe tbody tr th:only-of-type {\n",
       "        vertical-align: middle;\n",
       "    }\n",
       "\n",
       "    .dataframe tbody tr th {\n",
       "        vertical-align: top;\n",
       "    }\n",
       "\n",
       "    .dataframe thead th {\n",
       "        text-align: right;\n",
       "    }\n",
       "</style>\n",
       "<table border=\"1\" class=\"dataframe\">\n",
       "  <thead>\n",
       "    <tr style=\"text-align: right;\">\n",
       "      <th></th>\n",
       "      <th>smoking_status_cod_Unknown</th>\n",
       "      <th>smoking_status_cod_formerly smoked</th>\n",
       "      <th>smoking_status_cod_never smoked</th>\n",
       "      <th>smoking_status_cod_smokes</th>\n",
       "    </tr>\n",
       "  </thead>\n",
       "  <tbody>\n",
       "    <tr>\n",
       "      <th>0</th>\n",
       "      <td>0</td>\n",
       "      <td>1</td>\n",
       "      <td>0</td>\n",
       "      <td>0</td>\n",
       "    </tr>\n",
       "    <tr>\n",
       "      <th>1</th>\n",
       "      <td>0</td>\n",
       "      <td>0</td>\n",
       "      <td>1</td>\n",
       "      <td>0</td>\n",
       "    </tr>\n",
       "    <tr>\n",
       "      <th>2</th>\n",
       "      <td>0</td>\n",
       "      <td>0</td>\n",
       "      <td>1</td>\n",
       "      <td>0</td>\n",
       "    </tr>\n",
       "    <tr>\n",
       "      <th>3</th>\n",
       "      <td>0</td>\n",
       "      <td>0</td>\n",
       "      <td>0</td>\n",
       "      <td>1</td>\n",
       "    </tr>\n",
       "    <tr>\n",
       "      <th>4</th>\n",
       "      <td>0</td>\n",
       "      <td>0</td>\n",
       "      <td>1</td>\n",
       "      <td>0</td>\n",
       "    </tr>\n",
       "    <tr>\n",
       "      <th>...</th>\n",
       "      <td>...</td>\n",
       "      <td>...</td>\n",
       "      <td>...</td>\n",
       "      <td>...</td>\n",
       "    </tr>\n",
       "    <tr>\n",
       "      <th>5105</th>\n",
       "      <td>0</td>\n",
       "      <td>0</td>\n",
       "      <td>1</td>\n",
       "      <td>0</td>\n",
       "    </tr>\n",
       "    <tr>\n",
       "      <th>5106</th>\n",
       "      <td>0</td>\n",
       "      <td>0</td>\n",
       "      <td>1</td>\n",
       "      <td>0</td>\n",
       "    </tr>\n",
       "    <tr>\n",
       "      <th>5107</th>\n",
       "      <td>0</td>\n",
       "      <td>0</td>\n",
       "      <td>1</td>\n",
       "      <td>0</td>\n",
       "    </tr>\n",
       "    <tr>\n",
       "      <th>5108</th>\n",
       "      <td>0</td>\n",
       "      <td>1</td>\n",
       "      <td>0</td>\n",
       "      <td>0</td>\n",
       "    </tr>\n",
       "    <tr>\n",
       "      <th>5109</th>\n",
       "      <td>1</td>\n",
       "      <td>0</td>\n",
       "      <td>0</td>\n",
       "      <td>0</td>\n",
       "    </tr>\n",
       "  </tbody>\n",
       "</table>\n",
       "<p>5109 rows × 4 columns</p>\n",
       "</div>"
      ],
      "text/plain": [
       "      smoking_status_cod_Unknown  smoking_status_cod_formerly smoked  \\\n",
       "0                              0                                   1   \n",
       "1                              0                                   0   \n",
       "2                              0                                   0   \n",
       "3                              0                                   0   \n",
       "4                              0                                   0   \n",
       "...                          ...                                 ...   \n",
       "5105                           0                                   0   \n",
       "5106                           0                                   0   \n",
       "5107                           0                                   0   \n",
       "5108                           0                                   1   \n",
       "5109                           1                                   0   \n",
       "\n",
       "      smoking_status_cod_never smoked  smoking_status_cod_smokes  \n",
       "0                                   0                          0  \n",
       "1                                   1                          0  \n",
       "2                                   1                          0  \n",
       "3                                   0                          1  \n",
       "4                                   1                          0  \n",
       "...                               ...                        ...  \n",
       "5105                                1                          0  \n",
       "5106                                1                          0  \n",
       "5107                                1                          0  \n",
       "5108                                0                          0  \n",
       "5109                                0                          0  \n",
       "\n",
       "[5109 rows x 4 columns]"
      ]
     },
     "execution_count": 32,
     "metadata": {},
     "output_type": "execute_result"
    }
   ],
   "source": [
    "df['smoking_status'] = pd.Categorical(df['smoking_status'])\n",
    "dfsmoke = pd.get_dummies(df['smoking_status'], prefix = 'smoking_status_cod')\n",
    "dfsmoke"
   ]
  },
  {
   "cell_type": "code",
   "execution_count": 33,
   "metadata": {
    "execution": {
     "iopub.execute_input": "2021-05-27T23:02:39.999028Z",
     "iopub.status.busy": "2021-05-27T23:02:39.998763Z",
     "iopub.status.idle": "2021-05-27T23:02:40.013203Z",
     "shell.execute_reply": "2021-05-27T23:02:40.012236Z",
     "shell.execute_reply.started": "2021-05-27T23:02:39.999004Z"
    }
   },
   "outputs": [
    {
     "data": {
      "text/html": [
       "<div>\n",
       "<style scoped>\n",
       "    .dataframe tbody tr th:only-of-type {\n",
       "        vertical-align: middle;\n",
       "    }\n",
       "\n",
       "    .dataframe tbody tr th {\n",
       "        vertical-align: top;\n",
       "    }\n",
       "\n",
       "    .dataframe thead th {\n",
       "        text-align: right;\n",
       "    }\n",
       "</style>\n",
       "<table border=\"1\" class=\"dataframe\">\n",
       "  <thead>\n",
       "    <tr style=\"text-align: right;\">\n",
       "      <th></th>\n",
       "      <th>age_cod_1</th>\n",
       "      <th>age_cod_2</th>\n",
       "      <th>age_cod_3</th>\n",
       "      <th>age_cod_4</th>\n",
       "      <th>age_cod_5</th>\n",
       "    </tr>\n",
       "  </thead>\n",
       "  <tbody>\n",
       "    <tr>\n",
       "      <th>0</th>\n",
       "      <td>0</td>\n",
       "      <td>0</td>\n",
       "      <td>0</td>\n",
       "      <td>1</td>\n",
       "      <td>0</td>\n",
       "    </tr>\n",
       "    <tr>\n",
       "      <th>1</th>\n",
       "      <td>0</td>\n",
       "      <td>0</td>\n",
       "      <td>0</td>\n",
       "      <td>1</td>\n",
       "      <td>0</td>\n",
       "    </tr>\n",
       "    <tr>\n",
       "      <th>2</th>\n",
       "      <td>0</td>\n",
       "      <td>0</td>\n",
       "      <td>0</td>\n",
       "      <td>0</td>\n",
       "      <td>1</td>\n",
       "    </tr>\n",
       "    <tr>\n",
       "      <th>3</th>\n",
       "      <td>0</td>\n",
       "      <td>0</td>\n",
       "      <td>1</td>\n",
       "      <td>0</td>\n",
       "      <td>0</td>\n",
       "    </tr>\n",
       "    <tr>\n",
       "      <th>4</th>\n",
       "      <td>0</td>\n",
       "      <td>0</td>\n",
       "      <td>0</td>\n",
       "      <td>1</td>\n",
       "      <td>0</td>\n",
       "    </tr>\n",
       "    <tr>\n",
       "      <th>...</th>\n",
       "      <td>...</td>\n",
       "      <td>...</td>\n",
       "      <td>...</td>\n",
       "      <td>...</td>\n",
       "      <td>...</td>\n",
       "    </tr>\n",
       "    <tr>\n",
       "      <th>5105</th>\n",
       "      <td>0</td>\n",
       "      <td>0</td>\n",
       "      <td>0</td>\n",
       "      <td>0</td>\n",
       "      <td>1</td>\n",
       "    </tr>\n",
       "    <tr>\n",
       "      <th>5106</th>\n",
       "      <td>0</td>\n",
       "      <td>0</td>\n",
       "      <td>0</td>\n",
       "      <td>0</td>\n",
       "      <td>1</td>\n",
       "    </tr>\n",
       "    <tr>\n",
       "      <th>5107</th>\n",
       "      <td>0</td>\n",
       "      <td>1</td>\n",
       "      <td>0</td>\n",
       "      <td>0</td>\n",
       "      <td>0</td>\n",
       "    </tr>\n",
       "    <tr>\n",
       "      <th>5108</th>\n",
       "      <td>0</td>\n",
       "      <td>0</td>\n",
       "      <td>1</td>\n",
       "      <td>0</td>\n",
       "      <td>0</td>\n",
       "    </tr>\n",
       "    <tr>\n",
       "      <th>5109</th>\n",
       "      <td>0</td>\n",
       "      <td>0</td>\n",
       "      <td>1</td>\n",
       "      <td>0</td>\n",
       "      <td>0</td>\n",
       "    </tr>\n",
       "  </tbody>\n",
       "</table>\n",
       "<p>5109 rows × 5 columns</p>\n",
       "</div>"
      ],
      "text/plain": [
       "      age_cod_1  age_cod_2  age_cod_3  age_cod_4  age_cod_5\n",
       "0             0          0          0          1          0\n",
       "1             0          0          0          1          0\n",
       "2             0          0          0          0          1\n",
       "3             0          0          1          0          0\n",
       "4             0          0          0          1          0\n",
       "...         ...        ...        ...        ...        ...\n",
       "5105          0          0          0          0          1\n",
       "5106          0          0          0          0          1\n",
       "5107          0          1          0          0          0\n",
       "5108          0          0          1          0          0\n",
       "5109          0          0          1          0          0\n",
       "\n",
       "[5109 rows x 5 columns]"
      ]
     },
     "execution_count": 33,
     "metadata": {},
     "output_type": "execute_result"
    }
   ],
   "source": [
    "df['age'] = pd.Categorical(df['age'])\n",
    "dfage = pd.get_dummies(df['age'], prefix = 'age_cod')\n",
    "dfage"
   ]
  },
  {
   "cell_type": "code",
   "execution_count": 34,
   "metadata": {
    "execution": {
     "iopub.execute_input": "2021-05-27T23:02:40.014496Z",
     "iopub.status.busy": "2021-05-27T23:02:40.014253Z",
     "iopub.status.idle": "2021-05-27T23:02:40.023632Z",
     "shell.execute_reply": "2021-05-27T23:02:40.022572Z",
     "shell.execute_reply.started": "2021-05-27T23:02:40.014472Z"
    }
   },
   "outputs": [],
   "source": [
    "df.drop(\"bmi\", axis=1, inplace=True)\n",
    "df.drop(\"work_type\", axis=1, inplace=True)\n",
    "df.drop(\"smoking_status\", axis=1, inplace=True)\n",
    "df.drop(\"avg_glucose_level\", axis=1, inplace=True)\n",
    "df.drop(\"age\", axis=1, inplace=True)"
   ]
  },
  {
   "cell_type": "code",
   "execution_count": 35,
   "metadata": {
    "execution": {
     "iopub.execute_input": "2021-05-27T23:03:04.906438Z",
     "iopub.status.busy": "2021-05-27T23:03:04.906075Z",
     "iopub.status.idle": "2021-05-27T23:03:04.942482Z",
     "shell.execute_reply": "2021-05-27T23:03:04.941624Z",
     "shell.execute_reply.started": "2021-05-27T23:03:04.906408Z"
    }
   },
   "outputs": [
    {
     "data": {
      "text/html": [
       "<div>\n",
       "<style scoped>\n",
       "    .dataframe tbody tr th:only-of-type {\n",
       "        vertical-align: middle;\n",
       "    }\n",
       "\n",
       "    .dataframe tbody tr th {\n",
       "        vertical-align: top;\n",
       "    }\n",
       "\n",
       "    .dataframe thead th {\n",
       "        text-align: right;\n",
       "    }\n",
       "</style>\n",
       "<table border=\"1\" class=\"dataframe\">\n",
       "  <thead>\n",
       "    <tr style=\"text-align: right;\">\n",
       "      <th></th>\n",
       "      <th>gender</th>\n",
       "      <th>hypertension</th>\n",
       "      <th>heart_disease</th>\n",
       "      <th>ever_married</th>\n",
       "      <th>Residence_type</th>\n",
       "      <th>stroke</th>\n",
       "      <th>work_type_cod_Unknown</th>\n",
       "      <th>work_type_cod_formerly smoked</th>\n",
       "      <th>work_type_cod_never smoked</th>\n",
       "      <th>work_type_cod_smokes</th>\n",
       "      <th>...</th>\n",
       "      <th>bmi_cod_entre 50% a 75%</th>\n",
       "      <th>age_cod_1</th>\n",
       "      <th>age_cod_2</th>\n",
       "      <th>age_cod_3</th>\n",
       "      <th>age_cod_4</th>\n",
       "      <th>age_cod_5</th>\n",
       "      <th>smoking_status_cod_Unknown</th>\n",
       "      <th>smoking_status_cod_formerly smoked</th>\n",
       "      <th>smoking_status_cod_never smoked</th>\n",
       "      <th>smoking_status_cod_smokes</th>\n",
       "    </tr>\n",
       "  </thead>\n",
       "  <tbody>\n",
       "    <tr>\n",
       "      <th>0</th>\n",
       "      <td>1</td>\n",
       "      <td>0</td>\n",
       "      <td>1</td>\n",
       "      <td>1</td>\n",
       "      <td>1</td>\n",
       "      <td>1</td>\n",
       "      <td>0</td>\n",
       "      <td>1</td>\n",
       "      <td>0</td>\n",
       "      <td>0</td>\n",
       "      <td>...</td>\n",
       "      <td>0</td>\n",
       "      <td>0</td>\n",
       "      <td>0</td>\n",
       "      <td>0</td>\n",
       "      <td>1</td>\n",
       "      <td>0</td>\n",
       "      <td>0</td>\n",
       "      <td>1</td>\n",
       "      <td>0</td>\n",
       "      <td>0</td>\n",
       "    </tr>\n",
       "    <tr>\n",
       "      <th>1</th>\n",
       "      <td>0</td>\n",
       "      <td>0</td>\n",
       "      <td>0</td>\n",
       "      <td>1</td>\n",
       "      <td>0</td>\n",
       "      <td>1</td>\n",
       "      <td>0</td>\n",
       "      <td>0</td>\n",
       "      <td>1</td>\n",
       "      <td>0</td>\n",
       "      <td>...</td>\n",
       "      <td>1</td>\n",
       "      <td>0</td>\n",
       "      <td>0</td>\n",
       "      <td>0</td>\n",
       "      <td>1</td>\n",
       "      <td>0</td>\n",
       "      <td>0</td>\n",
       "      <td>0</td>\n",
       "      <td>1</td>\n",
       "      <td>0</td>\n",
       "    </tr>\n",
       "    <tr>\n",
       "      <th>2</th>\n",
       "      <td>1</td>\n",
       "      <td>0</td>\n",
       "      <td>1</td>\n",
       "      <td>1</td>\n",
       "      <td>0</td>\n",
       "      <td>1</td>\n",
       "      <td>0</td>\n",
       "      <td>0</td>\n",
       "      <td>1</td>\n",
       "      <td>0</td>\n",
       "      <td>...</td>\n",
       "      <td>1</td>\n",
       "      <td>0</td>\n",
       "      <td>0</td>\n",
       "      <td>0</td>\n",
       "      <td>0</td>\n",
       "      <td>1</td>\n",
       "      <td>0</td>\n",
       "      <td>0</td>\n",
       "      <td>1</td>\n",
       "      <td>0</td>\n",
       "    </tr>\n",
       "    <tr>\n",
       "      <th>3</th>\n",
       "      <td>0</td>\n",
       "      <td>0</td>\n",
       "      <td>0</td>\n",
       "      <td>1</td>\n",
       "      <td>1</td>\n",
       "      <td>1</td>\n",
       "      <td>0</td>\n",
       "      <td>0</td>\n",
       "      <td>0</td>\n",
       "      <td>1</td>\n",
       "      <td>...</td>\n",
       "      <td>0</td>\n",
       "      <td>0</td>\n",
       "      <td>0</td>\n",
       "      <td>1</td>\n",
       "      <td>0</td>\n",
       "      <td>0</td>\n",
       "      <td>0</td>\n",
       "      <td>0</td>\n",
       "      <td>0</td>\n",
       "      <td>1</td>\n",
       "    </tr>\n",
       "    <tr>\n",
       "      <th>4</th>\n",
       "      <td>0</td>\n",
       "      <td>1</td>\n",
       "      <td>0</td>\n",
       "      <td>1</td>\n",
       "      <td>0</td>\n",
       "      <td>1</td>\n",
       "      <td>0</td>\n",
       "      <td>0</td>\n",
       "      <td>1</td>\n",
       "      <td>0</td>\n",
       "      <td>...</td>\n",
       "      <td>0</td>\n",
       "      <td>0</td>\n",
       "      <td>0</td>\n",
       "      <td>0</td>\n",
       "      <td>1</td>\n",
       "      <td>0</td>\n",
       "      <td>0</td>\n",
       "      <td>0</td>\n",
       "      <td>1</td>\n",
       "      <td>0</td>\n",
       "    </tr>\n",
       "    <tr>\n",
       "      <th>...</th>\n",
       "      <td>...</td>\n",
       "      <td>...</td>\n",
       "      <td>...</td>\n",
       "      <td>...</td>\n",
       "      <td>...</td>\n",
       "      <td>...</td>\n",
       "      <td>...</td>\n",
       "      <td>...</td>\n",
       "      <td>...</td>\n",
       "      <td>...</td>\n",
       "      <td>...</td>\n",
       "      <td>...</td>\n",
       "      <td>...</td>\n",
       "      <td>...</td>\n",
       "      <td>...</td>\n",
       "      <td>...</td>\n",
       "      <td>...</td>\n",
       "      <td>...</td>\n",
       "      <td>...</td>\n",
       "      <td>...</td>\n",
       "      <td>...</td>\n",
       "    </tr>\n",
       "    <tr>\n",
       "      <th>5105</th>\n",
       "      <td>0</td>\n",
       "      <td>1</td>\n",
       "      <td>0</td>\n",
       "      <td>1</td>\n",
       "      <td>1</td>\n",
       "      <td>0</td>\n",
       "      <td>0</td>\n",
       "      <td>0</td>\n",
       "      <td>1</td>\n",
       "      <td>0</td>\n",
       "      <td>...</td>\n",
       "      <td>1</td>\n",
       "      <td>0</td>\n",
       "      <td>0</td>\n",
       "      <td>0</td>\n",
       "      <td>0</td>\n",
       "      <td>1</td>\n",
       "      <td>0</td>\n",
       "      <td>0</td>\n",
       "      <td>1</td>\n",
       "      <td>0</td>\n",
       "    </tr>\n",
       "    <tr>\n",
       "      <th>5106</th>\n",
       "      <td>0</td>\n",
       "      <td>0</td>\n",
       "      <td>0</td>\n",
       "      <td>1</td>\n",
       "      <td>1</td>\n",
       "      <td>0</td>\n",
       "      <td>0</td>\n",
       "      <td>0</td>\n",
       "      <td>1</td>\n",
       "      <td>0</td>\n",
       "      <td>...</td>\n",
       "      <td>0</td>\n",
       "      <td>0</td>\n",
       "      <td>0</td>\n",
       "      <td>0</td>\n",
       "      <td>0</td>\n",
       "      <td>1</td>\n",
       "      <td>0</td>\n",
       "      <td>0</td>\n",
       "      <td>1</td>\n",
       "      <td>0</td>\n",
       "    </tr>\n",
       "    <tr>\n",
       "      <th>5107</th>\n",
       "      <td>0</td>\n",
       "      <td>0</td>\n",
       "      <td>0</td>\n",
       "      <td>1</td>\n",
       "      <td>0</td>\n",
       "      <td>0</td>\n",
       "      <td>0</td>\n",
       "      <td>0</td>\n",
       "      <td>1</td>\n",
       "      <td>0</td>\n",
       "      <td>...</td>\n",
       "      <td>1</td>\n",
       "      <td>0</td>\n",
       "      <td>1</td>\n",
       "      <td>0</td>\n",
       "      <td>0</td>\n",
       "      <td>0</td>\n",
       "      <td>0</td>\n",
       "      <td>0</td>\n",
       "      <td>1</td>\n",
       "      <td>0</td>\n",
       "    </tr>\n",
       "    <tr>\n",
       "      <th>5108</th>\n",
       "      <td>1</td>\n",
       "      <td>0</td>\n",
       "      <td>0</td>\n",
       "      <td>1</td>\n",
       "      <td>0</td>\n",
       "      <td>0</td>\n",
       "      <td>0</td>\n",
       "      <td>1</td>\n",
       "      <td>0</td>\n",
       "      <td>0</td>\n",
       "      <td>...</td>\n",
       "      <td>0</td>\n",
       "      <td>0</td>\n",
       "      <td>0</td>\n",
       "      <td>1</td>\n",
       "      <td>0</td>\n",
       "      <td>0</td>\n",
       "      <td>0</td>\n",
       "      <td>1</td>\n",
       "      <td>0</td>\n",
       "      <td>0</td>\n",
       "    </tr>\n",
       "    <tr>\n",
       "      <th>5109</th>\n",
       "      <td>0</td>\n",
       "      <td>0</td>\n",
       "      <td>0</td>\n",
       "      <td>1</td>\n",
       "      <td>1</td>\n",
       "      <td>0</td>\n",
       "      <td>1</td>\n",
       "      <td>0</td>\n",
       "      <td>0</td>\n",
       "      <td>0</td>\n",
       "      <td>...</td>\n",
       "      <td>0</td>\n",
       "      <td>0</td>\n",
       "      <td>0</td>\n",
       "      <td>1</td>\n",
       "      <td>0</td>\n",
       "      <td>0</td>\n",
       "      <td>1</td>\n",
       "      <td>0</td>\n",
       "      <td>0</td>\n",
       "      <td>0</td>\n",
       "    </tr>\n",
       "  </tbody>\n",
       "</table>\n",
       "<p>5109 rows × 27 columns</p>\n",
       "</div>"
      ],
      "text/plain": [
       "      gender  hypertension  heart_disease  ever_married  Residence_type  \\\n",
       "0          1             0              1             1               1   \n",
       "1          0             0              0             1               0   \n",
       "2          1             0              1             1               0   \n",
       "3          0             0              0             1               1   \n",
       "4          0             1              0             1               0   \n",
       "...      ...           ...            ...           ...             ...   \n",
       "5105       0             1              0             1               1   \n",
       "5106       0             0              0             1               1   \n",
       "5107       0             0              0             1               0   \n",
       "5108       1             0              0             1               0   \n",
       "5109       0             0              0             1               1   \n",
       "\n",
       "      stroke  work_type_cod_Unknown  work_type_cod_formerly smoked  \\\n",
       "0          1                      0                              1   \n",
       "1          1                      0                              0   \n",
       "2          1                      0                              0   \n",
       "3          1                      0                              0   \n",
       "4          1                      0                              0   \n",
       "...      ...                    ...                            ...   \n",
       "5105       0                      0                              0   \n",
       "5106       0                      0                              0   \n",
       "5107       0                      0                              0   \n",
       "5108       0                      0                              1   \n",
       "5109       0                      1                              0   \n",
       "\n",
       "      work_type_cod_never smoked  work_type_cod_smokes  ...  \\\n",
       "0                              0                     0  ...   \n",
       "1                              1                     0  ...   \n",
       "2                              1                     0  ...   \n",
       "3                              0                     1  ...   \n",
       "4                              1                     0  ...   \n",
       "...                          ...                   ...  ...   \n",
       "5105                           1                     0  ...   \n",
       "5106                           1                     0  ...   \n",
       "5107                           1                     0  ...   \n",
       "5108                           0                     0  ...   \n",
       "5109                           0                     0  ...   \n",
       "\n",
       "      bmi_cod_entre 50% a 75%  age_cod_1  age_cod_2  age_cod_3  age_cod_4  \\\n",
       "0                           0          0          0          0          1   \n",
       "1                           1          0          0          0          1   \n",
       "2                           1          0          0          0          0   \n",
       "3                           0          0          0          1          0   \n",
       "4                           0          0          0          0          1   \n",
       "...                       ...        ...        ...        ...        ...   \n",
       "5105                        1          0          0          0          0   \n",
       "5106                        0          0          0          0          0   \n",
       "5107                        1          0          1          0          0   \n",
       "5108                        0          0          0          1          0   \n",
       "5109                        0          0          0          1          0   \n",
       "\n",
       "      age_cod_5  smoking_status_cod_Unknown  \\\n",
       "0             0                           0   \n",
       "1             0                           0   \n",
       "2             1                           0   \n",
       "3             0                           0   \n",
       "4             0                           0   \n",
       "...         ...                         ...   \n",
       "5105          1                           0   \n",
       "5106          1                           0   \n",
       "5107          0                           0   \n",
       "5108          0                           0   \n",
       "5109          0                           1   \n",
       "\n",
       "      smoking_status_cod_formerly smoked  smoking_status_cod_never smoked  \\\n",
       "0                                      1                                0   \n",
       "1                                      0                                1   \n",
       "2                                      0                                1   \n",
       "3                                      0                                0   \n",
       "4                                      0                                1   \n",
       "...                                  ...                              ...   \n",
       "5105                                   0                                1   \n",
       "5106                                   0                                1   \n",
       "5107                                   0                                1   \n",
       "5108                                   1                                0   \n",
       "5109                                   0                                0   \n",
       "\n",
       "      smoking_status_cod_smokes  \n",
       "0                             0  \n",
       "1                             0  \n",
       "2                             0  \n",
       "3                             1  \n",
       "4                             0  \n",
       "...                         ...  \n",
       "5105                          0  \n",
       "5106                          0  \n",
       "5107                          0  \n",
       "5108                          0  \n",
       "5109                          0  \n",
       "\n",
       "[5109 rows x 27 columns]"
      ]
     },
     "execution_count": 35,
     "metadata": {},
     "output_type": "execute_result"
    }
   ],
   "source": [
    "df = pd.concat([df, dfwork], axis=1)\n",
    "df = pd.concat([df, dfavg], axis=1)\n",
    "df = pd.concat([df, dfbmi], axis=1)\n",
    "df = pd.concat([df, dfage], axis=1)\n",
    "df = pd.concat([df, dfsmoke], axis=1)\n",
    "df"
   ]
  },
  {
   "cell_type": "markdown",
   "metadata": {},
   "source": [
    "# Modelo"
   ]
  },
  {
   "cell_type": "code",
   "execution_count": 36,
   "metadata": {
    "execution": {
     "iopub.execute_input": "2021-05-27T23:03:42.255093Z",
     "iopub.status.busy": "2021-05-27T23:03:42.25473Z",
     "iopub.status.idle": "2021-05-27T23:03:42.264472Z",
     "shell.execute_reply": "2021-05-27T23:03:42.263443Z",
     "shell.execute_reply.started": "2021-05-27T23:03:42.255038Z"
    }
   },
   "outputs": [],
   "source": [
    "previsores = df.drop(columns=\"stroke\")\n",
    "classe = df[\"stroke\"]"
   ]
  },
  {
   "cell_type": "code",
   "execution_count": 37,
   "metadata": {
    "execution": {
     "iopub.execute_input": "2021-05-27T23:03:46.090514Z",
     "iopub.status.busy": "2021-05-27T23:03:46.09008Z",
     "iopub.status.idle": "2021-05-27T23:03:46.100696Z",
     "shell.execute_reply": "2021-05-27T23:03:46.099445Z",
     "shell.execute_reply.started": "2021-05-27T23:03:46.090478Z"
    }
   },
   "outputs": [],
   "source": [
    "X_treinamento, X_teste, y_treinamento, y_teste = train_test_split(previsores, classe, test_size = 0.3, random_state = 0)"
   ]
  },
  {
   "cell_type": "code",
   "execution_count": 38,
   "metadata": {
    "execution": {
     "iopub.execute_input": "2021-05-27T23:03:48.027847Z",
     "iopub.status.busy": "2021-05-27T23:03:48.027485Z",
     "iopub.status.idle": "2021-05-27T23:03:48.382263Z",
     "shell.execute_reply": "2021-05-27T23:03:48.381454Z",
     "shell.execute_reply.started": "2021-05-27T23:03:48.027814Z"
    }
   },
   "outputs": [
    {
     "data": {
      "text/plain": [
       "RandomForestClassifier()"
      ]
     },
     "execution_count": 38,
     "metadata": {},
     "output_type": "execute_result"
    }
   ],
   "source": [
    "floresta = RandomForestClassifier(n_estimators = 100)\n",
    "floresta.fit(X_treinamento, y_treinamento)"
   ]
  },
  {
   "cell_type": "code",
   "execution_count": 39,
   "metadata": {
    "execution": {
     "iopub.execute_input": "2021-05-27T23:03:53.973953Z",
     "iopub.status.busy": "2021-05-27T23:03:53.973559Z",
     "iopub.status.idle": "2021-05-27T23:03:54.019711Z",
     "shell.execute_reply": "2021-05-27T23:03:54.019026Z",
     "shell.execute_reply.started": "2021-05-27T23:03:53.973917Z"
    }
   },
   "outputs": [
    {
     "data": {
      "text/plain": [
       "array([[1443,   14],\n",
       "       [  75,    1]], dtype=int64)"
      ]
     },
     "execution_count": 39,
     "metadata": {},
     "output_type": "execute_result"
    }
   ],
   "source": [
    "previsoes = floresta.predict(X_teste)\n",
    "confusao = confusion_matrix(y_teste, previsoes)\n",
    "confusao"
   ]
  },
  {
   "cell_type": "code",
   "execution_count": 40,
   "metadata": {
    "execution": {
     "iopub.execute_input": "2021-05-27T23:03:57.080983Z",
     "iopub.status.busy": "2021-05-27T23:03:57.080278Z",
     "iopub.status.idle": "2021-05-27T23:03:57.087377Z",
     "shell.execute_reply": "2021-05-27T23:03:57.086616Z",
     "shell.execute_reply.started": "2021-05-27T23:03:57.080948Z"
    }
   },
   "outputs": [
    {
     "data": {
      "text/plain": [
       "0.9419439008480104"
      ]
     },
     "execution_count": 40,
     "metadata": {},
     "output_type": "execute_result"
    }
   ],
   "source": [
    "taxa_acerto = accuracy_score(y_teste, previsoes)\n",
    "taxa_acerto"
   ]
  },
  {
   "cell_type": "code",
   "execution_count": 41,
   "metadata": {
    "execution": {
     "iopub.execute_input": "2021-05-27T23:04:02.183264Z",
     "iopub.status.busy": "2021-05-27T23:04:02.182715Z",
     "iopub.status.idle": "2021-05-27T23:04:02.198207Z",
     "shell.execute_reply": "2021-05-27T23:04:02.197316Z",
     "shell.execute_reply.started": "2021-05-27T23:04:02.183231Z"
    }
   },
   "outputs": [
    {
     "data": {
      "text/plain": [
       "GaussianNB()"
      ]
     },
     "execution_count": 41,
     "metadata": {},
     "output_type": "execute_result"
    }
   ],
   "source": [
    "nb = GaussianNB()\n",
    "nb.fit(X_treinamento, y_treinamento)"
   ]
  },
  {
   "cell_type": "code",
   "execution_count": 42,
   "metadata": {
    "execution": {
     "iopub.execute_input": "2021-05-27T23:04:04.237517Z",
     "iopub.status.busy": "2021-05-27T23:04:04.237159Z",
     "iopub.status.idle": "2021-05-27T23:04:04.253365Z",
     "shell.execute_reply": "2021-05-27T23:04:04.252382Z",
     "shell.execute_reply.started": "2021-05-27T23:04:04.237489Z"
    }
   },
   "outputs": [
    {
     "data": {
      "text/plain": [
       "array([[680, 777],\n",
       "       [  4,  72]], dtype=int64)"
      ]
     },
     "execution_count": 42,
     "metadata": {},
     "output_type": "execute_result"
    }
   ],
   "source": [
    "previsoes = nb.predict(X_teste)\n",
    "confusao = confusion_matrix(y_teste, previsoes)\n",
    "confusao"
   ]
  },
  {
   "cell_type": "code",
   "execution_count": 43,
   "metadata": {
    "execution": {
     "iopub.execute_input": "2021-05-27T23:04:13.496091Z",
     "iopub.status.busy": "2021-05-27T23:04:13.495728Z",
     "iopub.status.idle": "2021-05-27T23:04:13.502355Z",
     "shell.execute_reply": "2021-05-27T23:04:13.501709Z",
     "shell.execute_reply.started": "2021-05-27T23:04:13.496047Z"
    }
   },
   "outputs": [
    {
     "data": {
      "text/plain": [
       "0.49054142204827134"
      ]
     },
     "execution_count": 43,
     "metadata": {},
     "output_type": "execute_result"
    }
   ],
   "source": [
    "taxa_acerto = accuracy_score(y_teste, previsoes)\n",
    "taxa_acerto"
   ]
  },
  {
   "cell_type": "code",
   "execution_count": 44,
   "metadata": {
    "execution": {
     "iopub.execute_input": "2021-05-27T23:04:16.1974Z",
     "iopub.status.busy": "2021-05-27T23:04:16.197043Z",
     "iopub.status.idle": "2021-05-27T23:04:16.207354Z",
     "shell.execute_reply": "2021-05-27T23:04:16.206433Z",
     "shell.execute_reply.started": "2021-05-27T23:04:16.19737Z"
    }
   },
   "outputs": [
    {
     "data": {
      "text/plain": [
       "KNeighborsClassifier(n_neighbors=3)"
      ]
     },
     "execution_count": 44,
     "metadata": {},
     "output_type": "execute_result"
    }
   ],
   "source": [
    "neighbors = KNeighborsClassifier(n_neighbors=3)\n",
    "neighbors.fit(X_treinamento, y_treinamento)"
   ]
  },
  {
   "cell_type": "code",
   "execution_count": 45,
   "metadata": {
    "execution": {
     "iopub.execute_input": "2021-05-27T23:04:22.028514Z",
     "iopub.status.busy": "2021-05-27T23:04:22.028117Z",
     "iopub.status.idle": "2021-05-27T23:04:22.28281Z",
     "shell.execute_reply": "2021-05-27T23:04:22.281667Z",
     "shell.execute_reply.started": "2021-05-27T23:04:22.028485Z"
    }
   },
   "outputs": [
    {
     "data": {
      "text/plain": [
       "array([[1445,   12],\n",
       "       [  73,    3]], dtype=int64)"
      ]
     },
     "execution_count": 45,
     "metadata": {},
     "output_type": "execute_result"
    }
   ],
   "source": [
    "previsoes = neighbors.predict(X_teste)\n",
    "confusao = confusion_matrix(y_teste, previsoes)\n",
    "confusao"
   ]
  },
  {
   "cell_type": "code",
   "execution_count": 46,
   "metadata": {
    "execution": {
     "iopub.execute_input": "2021-05-27T23:04:26.984059Z",
     "iopub.status.busy": "2021-05-27T23:04:26.983745Z",
     "iopub.status.idle": "2021-05-27T23:04:26.990974Z",
     "shell.execute_reply": "2021-05-27T23:04:26.990097Z",
     "shell.execute_reply.started": "2021-05-27T23:04:26.98403Z"
    }
   },
   "outputs": [
    {
     "data": {
      "text/plain": [
       "0.9445531637312459"
      ]
     },
     "execution_count": 46,
     "metadata": {},
     "output_type": "execute_result"
    }
   ],
   "source": [
    "taxa_acerto = accuracy_score(y_teste, previsoes)\n",
    "taxa_acerto"
   ]
  },
  {
   "cell_type": "code",
   "execution_count": 47,
   "metadata": {
    "execution": {
     "iopub.execute_input": "2021-05-27T23:04:28.93753Z",
     "iopub.status.busy": "2021-05-27T23:04:28.937149Z",
     "iopub.status.idle": "2021-05-27T23:04:28.95919Z",
     "shell.execute_reply": "2021-05-27T23:04:28.958305Z",
     "shell.execute_reply.started": "2021-05-27T23:04:28.937498Z"
    }
   },
   "outputs": [
    {
     "data": {
      "text/plain": [
       "DecisionTreeClassifier(random_state=1)"
      ]
     },
     "execution_count": 47,
     "metadata": {},
     "output_type": "execute_result"
    }
   ],
   "source": [
    "tree = DecisionTreeClassifier(random_state=1)\n",
    "tree.fit(X_treinamento, y_treinamento)"
   ]
  },
  {
   "cell_type": "code",
   "execution_count": 48,
   "metadata": {
    "execution": {
     "iopub.execute_input": "2021-05-27T23:04:30.893783Z",
     "iopub.status.busy": "2021-05-27T23:04:30.893241Z",
     "iopub.status.idle": "2021-05-27T23:04:30.906399Z",
     "shell.execute_reply": "2021-05-27T23:04:30.905106Z",
     "shell.execute_reply.started": "2021-05-27T23:04:30.89375Z"
    }
   },
   "outputs": [
    {
     "data": {
      "text/plain": [
       "array([[1425,   32],\n",
       "       [  72,    4]], dtype=int64)"
      ]
     },
     "execution_count": 48,
     "metadata": {},
     "output_type": "execute_result"
    }
   ],
   "source": [
    "previsoes = tree.predict(X_teste)\n",
    "confusao = confusion_matrix(y_teste, previsoes)\n",
    "confusao"
   ]
  },
  {
   "cell_type": "code",
   "execution_count": 49,
   "metadata": {
    "execution": {
     "iopub.execute_input": "2021-05-27T23:04:34.056646Z",
     "iopub.status.busy": "2021-05-27T23:04:34.056305Z",
     "iopub.status.idle": "2021-05-27T23:04:34.063173Z",
     "shell.execute_reply": "2021-05-27T23:04:34.062208Z",
     "shell.execute_reply.started": "2021-05-27T23:04:34.056612Z"
    }
   },
   "outputs": [
    {
     "data": {
      "text/plain": [
       "0.9321591650358774"
      ]
     },
     "execution_count": 49,
     "metadata": {},
     "output_type": "execute_result"
    }
   ],
   "source": [
    "taxa_acerto = accuracy_score(y_teste, previsoes)\n",
    "taxa_acerto"
   ]
  }
 ],
 "metadata": {
  "kernelspec": {
   "display_name": "Python 3 (ipykernel)",
   "language": "python",
   "name": "python3"
  },
  "language_info": {
   "codemirror_mode": {
    "name": "ipython",
    "version": 3
   },
   "file_extension": ".py",
   "mimetype": "text/x-python",
   "name": "python",
   "nbconvert_exporter": "python",
   "pygments_lexer": "ipython3",
   "version": "3.9.7"
  }
 },
 "nbformat": 4,
 "nbformat_minor": 4
}
