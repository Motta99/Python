{
 "cells": [
  {
   "cell_type": "markdown",
   "id": "78edd012",
   "metadata": {},
   "source": [
    "# Importando Bibliotecas"
   ]
  },
  {
   "cell_type": "code",
   "execution_count": 75,
   "id": "f6515b15",
   "metadata": {},
   "outputs": [],
   "source": [
    "import pandas as pd\n",
    "\n",
    "from sklearn.datasets import load_iris\n",
    "from pyspark.sql import SparkSession\n",
    "from pyspark.sql.types import *\n",
    "from pyspark.ml import Pipeline\n",
    "from pyspark.ml.feature import VectorAssembler\n",
    "from pyspark.ml.classification import DecisionTreeClassifier, RandomForestClassifier\n",
    "from pyspark.ml.evaluation import MulticlassClassificationEvaluator"
   ]
  },
  {
   "cell_type": "code",
   "execution_count": 40,
   "id": "4b17c3a8",
   "metadata": {},
   "outputs": [],
   "source": [
    "spark = SparkSession.builder.appName('iris_ml').getOrCreate()"
   ]
  },
  {
   "cell_type": "code",
   "execution_count": 53,
   "id": "43ee243a",
   "metadata": {},
   "outputs": [],
   "source": [
    "schema = StructType().add('target', 'integer')\\\n",
    "                     .add('sepal length (cm)', 'float')\\\n",
    "                     .add(\"sepal width (cm)\", \"float\")\\\n",
    "                     .add(\"petal length (cm)\", \"float\")\\\n",
    "                     .add(\"petal width (cm)\", \"float\")\\\n",
    "\n",
    "iris = pd.DataFrame(load_iris().data, load_iris().target, columns= load_iris().feature_names).reset_index().rename(columns= {'index' : 'target'})\n",
    "iris_spark = spark.createDataFrame(iris, schema= schema)"
   ]
  },
  {
   "cell_type": "code",
   "execution_count": 54,
   "id": "cf3a1b57",
   "metadata": {},
   "outputs": [
    {
     "name": "stdout",
     "output_type": "stream",
     "text": [
      "root\n",
      " |-- target: integer (nullable = true)\n",
      " |-- sepal length (cm): float (nullable = true)\n",
      " |-- sepal width (cm): float (nullable = true)\n",
      " |-- petal length (cm): float (nullable = true)\n",
      " |-- petal width (cm): float (nullable = true)\n",
      "\n"
     ]
    }
   ],
   "source": [
    "iris_spark.printSchema()"
   ]
  },
  {
   "cell_type": "code",
   "execution_count": 42,
   "id": "0706e2df",
   "metadata": {},
   "outputs": [],
   "source": [
    "#transforma as colunas em um vetor\n",
    "vector = VectorAssembler(inputCols= ['sepal length (cm)', 'sepal width (cm)', 'petal length (cm)', 'petal width (cm)'], \n",
    "                         outputCol= 'X')"
   ]
  },
  {
   "cell_type": "code",
   "execution_count": 69,
   "id": "43a5b825",
   "metadata": {},
   "outputs": [],
   "source": [
    "decision_tree = DecisionTreeClassifier(featuresCol='X', labelCol='target', seed=0)"
   ]
  },
  {
   "cell_type": "code",
   "execution_count": 78,
   "id": "d3a7e764",
   "metadata": {},
   "outputs": [],
   "source": [
    "#Separando os dados em treino e teste\n",
    "train, test = iris_spark.randomSplit(weights=[0.75,0.25], seed=0)"
   ]
  },
  {
   "cell_type": "markdown",
   "id": "a5ebd1f2",
   "metadata": {},
   "source": [
    "# Modelos\n",
    "## Árvore de Decisão"
   ]
  },
  {
   "cell_type": "code",
   "execution_count": 86,
   "id": "771a4bd3",
   "metadata": {},
   "outputs": [
    {
     "name": "stdout",
     "output_type": "stream",
     "text": [
      "0.8461538461538461\n"
     ]
    }
   ],
   "source": [
    "decision_tree = DecisionTreeClassifier(featuresCol='X', labelCol='target', seed=0)\n",
    "\n",
    "pipe_decision_tree = Pipeline(stages=[vector, decision_tree])\n",
    "model_decision_tree = pipe_decision_tree.fit(train)\n",
    "previsoes_decision_tree = model_decision_tree.transform(test)\n",
    "\n",
    "perf = MulticlassClassificationEvaluator(labelCol= 'target', predictionCol= 'prediction', metricName= 'accuracy')\n",
    "acc = perf.evaluate(previsoes_decision_tree)\n",
    "print(acc)"
   ]
  },
  {
   "cell_type": "markdown",
   "id": "e277cea0",
   "metadata": {},
   "source": [
    "## Floresta Aleatória"
   ]
  },
  {
   "cell_type": "code",
   "execution_count": 87,
   "id": "3a451fc2",
   "metadata": {},
   "outputs": [
    {
     "name": "stdout",
     "output_type": "stream",
     "text": [
      "0.9230769230769231\n"
     ]
    }
   ],
   "source": [
    "random_forest = RandomForestClassifier(featuresCol='X', labelCol='target', seed=0)\n",
    "\n",
    "pipe_random_forest = Pipeline(stages=[vector, random_forest])\n",
    "model_random_forest = pipe_random_forest.fit(train)\n",
    "previsoes_random_forest = model_random_forest.transform(test)\n",
    "\n",
    "perform = MulticlassClassificationEvaluator(labelCol= 'target', predictionCol= 'prediction', metricName= 'accuracy')\n",
    "acc = perform.evaluate(previsoes_random_forest)\n",
    "print(acc)"
   ]
  },
  {
   "cell_type": "code",
   "execution_count": 88,
   "id": "d988f1f0",
   "metadata": {},
   "outputs": [],
   "source": [
    "spark.stop()"
   ]
  }
 ],
 "metadata": {
  "kernelspec": {
   "display_name": "Python 3 (ipykernel)",
   "language": "python",
   "name": "python3"
  },
  "language_info": {
   "codemirror_mode": {
    "name": "ipython",
    "version": 3
   },
   "file_extension": ".py",
   "mimetype": "text/x-python",
   "name": "python",
   "nbconvert_exporter": "python",
   "pygments_lexer": "ipython3",
   "version": "3.9.7"
  }
 },
 "nbformat": 4,
 "nbformat_minor": 5
}
