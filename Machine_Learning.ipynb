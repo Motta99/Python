{
  "nbformat": 4,
  "nbformat_minor": 0,
  "metadata": {
    "colab": {
      "name": "Machine Learning.ipynb",
      "provenance": [],
      "authorship_tag": "ABX9TyM9KTmwUcJNcB4t6+qAk1sm",
      "include_colab_link": true
    },
    "kernelspec": {
      "name": "python3",
      "display_name": "Python 3"
    },
    "language_info": {
      "name": "python"
    }
  },
  "cells": [
    {
      "cell_type": "markdown",
      "metadata": {
        "id": "view-in-github",
        "colab_type": "text"
      },
      "source": [
        "<a href=\"https://colab.research.google.com/github/Motta99/Python/blob/main/Machine_Learning.ipynb\" target=\"_parent\"><img src=\"https://colab.research.google.com/assets/colab-badge.svg\" alt=\"Open In Colab\"/></a>"
      ]
    },
    {
      "cell_type": "markdown",
      "source": [
        "# Modelos\n"
      ],
      "metadata": {
        "id": "U0_1EWUG71aR"
      }
    },
    {
      "cell_type": "code",
      "source": [
        "import matplotlib\n",
        "import matplotlib.pyplot as plt\n",
        "import numpy as np\n",
        "import sklearn.datasets as db \n",
        "import sklearn.model_selection as MS\n",
        "import sklearn.metrics as metrics\n",
        "\n",
        "from sklearn.datasets import fetch_openml\n",
        "from sklearn.linear_model import SGDClassifier"
      ],
      "metadata": {
        "id": "5MqYGcvi42qe"
      },
      "execution_count": null,
      "outputs": []
    },
    {
      "cell_type": "markdown",
      "source": [
        "## Classificação"
      ],
      "metadata": {
        "id": "OqH_dDow41Ka"
      }
    },
    {
      "cell_type": "code",
      "execution_count": null,
      "metadata": {
        "id": "Trngk28v70qw"
      },
      "outputs": [],
      "source": [
        "iris = db.load_iris()"
      ]
    },
    {
      "cell_type": "code",
      "source": [
        "x, y, nomes = iris[\"data\"], iris[\"target\"], iris[\"target_names\"]"
      ],
      "metadata": {
        "id": "qqZHtW3tEqp9"
      },
      "execution_count": null,
      "outputs": []
    },
    {
      "cell_type": "code",
      "source": [
        "X_train, X_test, y_train, y_test =MS.train_test_split(x, y, test_size=0.30, random_state=42)"
      ],
      "metadata": {
        "id": "-zn1QVsf4vpy"
      },
      "execution_count": null,
      "outputs": []
    },
    {
      "cell_type": "code",
      "source": [
        "SGD = SGDClassifier(random_state= 42)\n",
        "SGD.fit(X_train, y_train)"
      ],
      "metadata": {
        "colab": {
          "base_uri": "https://localhost:8080/"
        },
        "id": "Dik60xO28gY_",
        "outputId": "d2c45cec-50e0-40da-ff0b-4b47725a8761"
      },
      "execution_count": null,
      "outputs": [
        {
          "output_type": "execute_result",
          "data": {
            "text/plain": [
              "SGDClassifier(random_state=42)"
            ]
          },
          "metadata": {},
          "execution_count": 10
        }
      ]
    },
    {
      "cell_type": "code",
      "source": [
        "SGD.predict(X_train)"
      ],
      "metadata": {
        "colab": {
          "base_uri": "https://localhost:8080/"
        },
        "id": "J62uyMjjGMuW",
        "outputId": "ccfc2456-f47c-4afd-9c05-523a2fae081c"
      },
      "execution_count": null,
      "outputs": [
        {
          "output_type": "execute_result",
          "data": {
            "text/plain": [
              "array([1, 2, 2, 1, 2, 2, 2, 2, 0, 2, 1, 0, 0, 0, 1, 2, 0, 0, 0, 2, 0, 2,\n",
              "       2, 0, 1, 2, 0, 2, 2, 1, 2, 2, 1, 0, 1, 2, 0, 0, 1, 2, 0, 2, 0, 0,\n",
              "       2, 0, 2, 2, 2, 2, 2, 0, 0, 2, 2, 0, 0, 0, 2, 2, 0, 2, 2, 0, 2, 2,\n",
              "       2, 1, 2, 0, 2, 2, 2, 1, 2, 2, 0, 1, 2, 0, 2, 2, 2, 0, 1, 2, 2, 0,\n",
              "       2, 0, 2, 2, 2, 2, 2, 1, 1, 2, 2, 0, 1, 2, 0, 1, 2])"
            ]
          },
          "metadata": {},
          "execution_count": 50
        }
      ]
    },
    {
      "cell_type": "code",
      "source": [
        "y_test"
      ],
      "metadata": {
        "colab": {
          "base_uri": "https://localhost:8080/"
        },
        "id": "m7YST5cuNLfU",
        "outputId": "c6d9bafa-13e6-4406-e2d1-8041f497f04d"
      },
      "execution_count": null,
      "outputs": [
        {
          "output_type": "execute_result",
          "data": {
            "text/plain": [
              "array([1, 0, 2, 1, 1, 0, 1, 2, 1, 1, 2, 0, 0, 0, 0, 1, 2, 1, 1, 2, 0, 2,\n",
              "       0, 2, 2, 2, 2, 2, 0, 0, 0, 0, 1, 0, 0, 2, 1, 0, 0, 0, 2, 1, 1, 0,\n",
              "       0])"
            ]
          },
          "metadata": {},
          "execution_count": 49
        }
      ]
    },
    {
      "cell_type": "markdown",
      "source": [
        "### Metodos de Avaliação do modelo"
      ],
      "metadata": {
        "id": "DSikPNZ1Iep6"
      }
    },
    {
      "cell_type": "code",
      "source": [
        "#Metodos de Avaliação do modelo\n",
        "\"\"\"cv determina a quantidade de vezes que o nosso modelo será dividido, após isso ele aplicará o método de avaliação escrito\n",
        "em scoring (accuracy) e retornará o desempenho baseado nisso\"\"\"\n",
        "MS.cross_val_score(SGD, X_train, y_train, cv=3, scoring=\"accuracy\")\n",
        "\n",
        "#metrics.SCORERS.keys() -- Métricas"
      ],
      "metadata": {
        "colab": {
          "base_uri": "https://localhost:8080/"
        },
        "id": "JkMm6OVXGcSW",
        "outputId": "6116eae6-02e9-4df7-b43f-69dd312b442c"
      },
      "execution_count": null,
      "outputs": [
        {
          "output_type": "execute_result",
          "data": {
            "text/plain": [
              "array([0.88571429, 0.91428571, 0.97142857])"
            ]
          },
          "metadata": {},
          "execution_count": 26
        }
      ]
    },
    {
      "cell_type": "code",
      "source": [
        "#Matriz confusão\n",
        "\n",
        "y_train_pred = MS.cross_val_predict(SGD, X_train, y_train, cv=3)\n",
        "confusao_iris = metrics.confusion_matrix(y_train, y_train_pred)\n",
        "\n",
        "\n",
        "#Precisão\n",
        "precisao_iris = metrics.precision_score(y_train, y_train_pred, average=\"micro\")\n",
        "\n",
        "#Recall / Revocação\n",
        "recall_iris = metrics.recall_score(y_train, y_train_pred, average=\"micro\")\n",
        "\n",
        "#F1 score\n",
        "f1_iris = metrics.f1_score(y_train, y_train_pred, average=\"micro\")\n",
        "\n",
        "print(f'Matriz Confusão: \\n{confusao_iris} \\n\\nPrecisão: {precisao_iris} \\n\\nRecall: {recall_iris} \\n\\nF1: {f1_iris}')\n"
      ],
      "metadata": {
        "colab": {
          "base_uri": "https://localhost:8080/"
        },
        "id": "ee6C0O16IQ8t",
        "outputId": "6b8749bd-68a5-4bb0-a117-3533525fce54"
      },
      "execution_count": null,
      "outputs": [
        {
          "output_type": "stream",
          "name": "stdout",
          "text": [
            "Matriz Confusão: \n",
            "[[31  0  0]\n",
            " [ 1 33  3]\n",
            " [ 0  4 33]] \n",
            "\n",
            "Precisão: 0.9238095238095239 \n",
            "\n",
            "Recall: 0.9238095238095239 \n",
            "\n",
            "F1: 0.9238095238095239\n"
          ]
        }
      ]
    },
    {
      "cell_type": "code",
      "source": [
        "#Breast Cancer Classificação Binária\n",
        "\n",
        "#Preparando a base de dados\n",
        "cancer = db.load_breast_cancer()\n",
        "x_cancer, y_cancer, nomes_cancer = cancer[\"data\"], cancer[\"target\"], cancer[\"target_names\"]\n",
        "\n",
        "#Separando o conjunto de treino e teste\n",
        "X_train_cancer, X_test_cancer, y_train_cancer, y_test_cancer = MS.train_test_split(x, y, test_size=0.30, random_state=42)\n",
        "\n",
        "#Chamando o método de classificação\n",
        "SGD_cancer = SGDClassifier(random_state= 42)\n",
        "SGD_cancer.fit(X_train_cancer, y_train_cancer)\n",
        "\n",
        "#acurácia do modelo\n",
        "acuracia_cancer = MS.cross_val_score(SGD, X_train, y_train, cv=3, scoring=\"accuracy\")\n",
        "\n",
        "#previsão\n",
        "y_train_cancer_pred = MS.cross_val_predict(SGD, X_train_cancer, y_train_cancer, cv=3)\n",
        "\n",
        "#Matriz Confusão\n",
        "confusao_cancer = metrics.confusion_matrix(y_train_cancer, y_train_cancer_pred)\n",
        "\n",
        "#Precisão\n",
        "precisao_cancer = metrics.precision_score(y_train_cancer, y_train_cancer_pred, average=\"micro\")\n",
        "\n",
        "#Recall / Revocação\n",
        "recall_cancer = metrics.recall_score(y_train_cancer, y_train_cancer_pred, average=\"micro\")\n",
        "\n",
        "#F1 score\n",
        "f1_cancer = metrics.f1_score(y_train_cancer, y_train_cancer_pred, average=\"micro\")\n",
        "\n",
        "print(f'Acurácia: {acuracia_cancer} \\n\\nMatriz Confusão: \\n{confusao_cancer} \\n\\nPrecisão: {precisao_cancer} \\n\\nRecall: {recall_cancer} \\n\\nF1: {f1_cancer}')"
      ],
      "metadata": {
        "colab": {
          "base_uri": "https://localhost:8080/"
        },
        "id": "4k3ZU9YINuYv",
        "outputId": "c8e3beca-55d9-49be-ff8e-b00bd940baff"
      },
      "execution_count": null,
      "outputs": [
        {
          "output_type": "stream",
          "name": "stdout",
          "text": [
            "Acurácia: [0.88571429 0.91428571 0.97142857] \n",
            "\n",
            "Matriz Confusão: \n",
            "[[31  0  0]\n",
            " [ 1 33  3]\n",
            " [ 0  4 33]] \n",
            "\n",
            "Precisão: 0.9238095238095239 \n",
            "\n",
            "Recall: 0.9238095238095239 \n",
            "\n",
            "F1: 0.9238095238095239\n"
          ]
        }
      ]
    },
    {
      "cell_type": "code",
      "source": [
        "y_cr = (y_cancer == 1)\n",
        "y_cr"
      ],
      "metadata": {
        "colab": {
          "base_uri": "https://localhost:8080/"
        },
        "id": "t4mcGOm6b36V",
        "outputId": "4520b00f-3587-4687-f8e5-71b72af030da"
      },
      "execution_count": null,
      "outputs": [
        {
          "output_type": "execute_result",
          "data": {
            "text/plain": [
              "array([False, False, False, False, False, False, False, False, False,\n",
              "       False, False, False, False, False, False, False, False, False,\n",
              "       False,  True,  True,  True, False, False, False, False, False,\n",
              "       False, False, False, False, False, False, False, False, False,\n",
              "       False,  True, False, False, False, False, False, False, False,\n",
              "       False,  True, False,  True,  True,  True,  True,  True, False,\n",
              "       False,  True, False, False,  True,  True,  True,  True, False,\n",
              "        True, False, False,  True,  True,  True,  True, False,  True,\n",
              "       False, False,  True, False,  True, False, False,  True,  True,\n",
              "        True, False, False,  True, False, False, False,  True,  True,\n",
              "        True, False,  True,  True, False, False,  True,  True,  True,\n",
              "       False, False,  True,  True,  True,  True, False,  True,  True,\n",
              "       False,  True,  True,  True,  True,  True,  True,  True,  True,\n",
              "       False, False, False,  True, False, False,  True,  True,  True,\n",
              "       False, False,  True, False,  True, False, False,  True, False,\n",
              "       False,  True,  True, False,  True,  True, False,  True,  True,\n",
              "        True,  True, False,  True,  True,  True,  True,  True,  True,\n",
              "        True,  True,  True, False,  True,  True,  True,  True, False,\n",
              "       False,  True, False,  True,  True, False, False,  True,  True,\n",
              "       False, False,  True,  True,  True,  True, False,  True,  True,\n",
              "       False, False, False,  True, False,  True, False,  True,  True,\n",
              "        True, False,  True,  True, False, False,  True, False, False,\n",
              "       False, False,  True, False, False, False,  True, False,  True,\n",
              "       False,  True,  True, False,  True, False, False, False, False,\n",
              "        True,  True, False, False,  True,  True,  True, False,  True,\n",
              "        True,  True,  True,  True, False, False,  True,  True, False,\n",
              "        True,  True, False, False,  True, False,  True,  True,  True,\n",
              "        True, False,  True,  True,  True,  True,  True, False,  True,\n",
              "       False, False, False, False, False, False, False, False, False,\n",
              "       False, False, False, False, False,  True,  True,  True,  True,\n",
              "        True,  True, False,  True, False,  True,  True, False,  True,\n",
              "        True, False,  True, False, False,  True,  True,  True,  True,\n",
              "        True,  True,  True,  True,  True,  True,  True,  True,  True,\n",
              "       False,  True,  True, False,  True, False,  True,  True,  True,\n",
              "        True,  True,  True,  True,  True,  True,  True,  True,  True,\n",
              "        True,  True, False,  True,  True,  True, False,  True, False,\n",
              "        True,  True,  True,  True, False, False, False,  True,  True,\n",
              "        True,  True, False,  True, False,  True, False,  True,  True,\n",
              "        True, False,  True,  True,  True,  True,  True,  True,  True,\n",
              "       False, False, False,  True,  True,  True,  True,  True,  True,\n",
              "        True,  True,  True,  True,  True, False, False,  True, False,\n",
              "       False, False,  True, False, False,  True,  True,  True,  True,\n",
              "        True, False,  True,  True,  True,  True,  True, False,  True,\n",
              "        True,  True, False,  True,  True, False, False,  True,  True,\n",
              "        True,  True,  True,  True, False,  True,  True,  True,  True,\n",
              "        True,  True,  True, False,  True,  True,  True,  True,  True,\n",
              "       False,  True,  True, False,  True,  True,  True,  True,  True,\n",
              "        True,  True,  True,  True,  True,  True,  True, False,  True,\n",
              "       False, False,  True, False,  True,  True,  True,  True,  True,\n",
              "       False,  True,  True, False,  True, False,  True,  True, False,\n",
              "        True, False,  True,  True,  True,  True,  True,  True,  True,\n",
              "        True, False, False,  True,  True,  True,  True,  True,  True,\n",
              "       False,  True,  True,  True,  True,  True,  True,  True,  True,\n",
              "        True,  True, False,  True,  True,  True,  True,  True,  True,\n",
              "        True, False,  True, False,  True,  True, False,  True,  True,\n",
              "        True,  True,  True, False, False,  True, False,  True, False,\n",
              "        True,  True,  True,  True,  True, False,  True,  True, False,\n",
              "        True, False,  True, False, False,  True,  True,  True, False,\n",
              "        True,  True,  True,  True,  True,  True,  True,  True,  True,\n",
              "        True,  True, False,  True, False, False,  True,  True,  True,\n",
              "        True,  True,  True,  True,  True,  True,  True,  True,  True,\n",
              "        True,  True,  True,  True,  True,  True,  True,  True,  True,\n",
              "        True,  True,  True,  True, False, False, False, False, False,\n",
              "       False,  True])"
            ]
          },
          "metadata": {},
          "execution_count": 65
        }
      ]
    }
  ]
}