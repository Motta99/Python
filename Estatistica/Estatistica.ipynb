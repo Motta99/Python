{
  "nbformat": 4,
  "nbformat_minor": 0,
  "metadata": {
    "colab": {
      "name": "Estatistica.ipynb",
      "provenance": [],
      "authorship_tag": "ABX9TyNCf444VPKgTr6X+u9PBxE+",
      "include_colab_link": true
    },
    "kernelspec": {
      "name": "python3",
      "display_name": "Python 3"
    },
    "language_info": {
      "name": "python"
    }
  },
  "cells": [
    {
      "cell_type": "markdown",
      "metadata": {
        "id": "view-in-github",
        "colab_type": "text"
      },
      "source": [
        "<a href=\"https://colab.research.google.com/github/Motta99/Python/blob/main/Estatistica/Estatistica.ipynb\" target=\"_parent\"><img src=\"https://colab.research.google.com/assets/colab-badge.svg\" alt=\"Open In Colab\"/></a>"
      ]
    },
    {
      "cell_type": "markdown",
      "source": [
        "## Estatistica"
      ],
      "metadata": {
        "id": "gj6ZQy8ep2RP"
      }
    },
    {
      "cell_type": "code",
      "source": [
        "import numpy as np\n",
        "import statistics as st\n",
        "import seaborn as sns"
      ],
      "metadata": {
        "id": "sMpCS6mD04h4"
      },
      "execution_count": null,
      "outputs": []
    },
    {
      "cell_type": "code",
      "execution_count": null,
      "metadata": {
        "id": "onZyYBEap1KE"
      },
      "outputs": [],
      "source": [
        "lista_par = [2,2,2,4,5,6,7,8]\n",
        "lista_impar = [1,2,3,4,5,6,7,3,2]"
      ]
    },
    {
      "cell_type": "code",
      "source": [
        "def media(lista):\n",
        "\n",
        "  return sum(lista) / len(lista)\n",
        "\n",
        "\n",
        "def mediana(lista):\n",
        "\n",
        "  sort_lista = sorted(lista)\n",
        "  if len(sort_lista) % 2 == 0:\n",
        "    posicao_central_sup = len(sort_lista) // 2\n",
        "    return (sort_lista[posicao_central_sup] + sort_lista[posicao_central_sup -1]) / 2\n",
        "\n",
        "  else: return sort_lista[len(sort_lista) // 2]\n",
        "\n",
        "\n",
        "def amplitude(lista):\n",
        "\n",
        "  return max(lista) - min(lista)\n",
        "\n",
        "\n",
        "def variancia(lista):\n",
        "\n",
        "  x_barra = media(lista)\n",
        "  soma = 0\n",
        "  for i in lista:\n",
        "    soma += (i - x_barra) ** 2\n",
        "  \n",
        "  return soma / (len(lista) - 1)\n",
        "\n",
        "def desvio_padrao(lista):\n",
        "\n",
        "  return variancia(lista) ** (1/2)\n",
        "\n",
        "def covariancia(lista_1, lista_2):\n",
        "  # O tamanho da lista 1 e da lista 2 devem ser iguais\n",
        "  x_barra = media(lista_1)\n",
        "  y_barra = media(lista_2)\n",
        "\n",
        "  soma = 0\n",
        "\n",
        "  for i in range(len(lista_1)):\n",
        "    soma += (lista_1[i] - x_barra) * (lista_2[i] - y_barra)\n",
        "\n",
        "  return soma / (len(lista_1) + len(lista_2) - 1)\n",
        "\n",
        "def correlacao(lista_1, lista_2):\n",
        "  \n",
        "  x_barra = media(lista_1)\n",
        "  y_barra = media(lista_2)\n",
        "\n",
        "  soma, soma_x, soma_y = 0,0,0\n",
        "\n",
        "  for i in range(len(lista_1)):\n",
        "    soma   += (lista_1[i] - x_barra) * (lista_2[i] - y_barra)  \n",
        "    soma_x += (lista_1[i] - x_barra) ** 2\n",
        "    soma_y += (lista_2[i] - y_barra) ** 2\n",
        "\n",
        "  return soma / ((soma_x * soma_y) ** (1/2))"
      ],
      "metadata": {
        "id": "qeVQAP-pqARe"
      },
      "execution_count": null,
      "outputs": []
    },
    {
      "cell_type": "code",
      "source": [
        "l1 = [2,3,5,6,1,7,8,4,2]\n",
        "l2 = [2,3,5,6,1,7,8,4,2]\n",
        "l3 = [l1,l2]\n"
      ],
      "metadata": {
        "id": "8oTi7KwT073C"
      },
      "execution_count": null,
      "outputs": []
    },
    {
      "cell_type": "code",
      "source": [
        "sns.lineplot(x= l1, y= l2)"
      ],
      "metadata": {
        "colab": {
          "base_uri": "https://localhost:8080/",
          "height": 282
        },
        "id": "xvkhPWqATigy",
        "outputId": "56667860-0372-4253-b98b-f9d18927c64a"
      },
      "execution_count": null,
      "outputs": [
        {
          "output_type": "execute_result",
          "data": {
            "text/plain": [
              "<matplotlib.axes._subplots.AxesSubplot at 0x7fa92d8d8290>"
            ]
          },
          "metadata": {},
          "execution_count": 8
        },
        {
          "output_type": "display_data",
          "data": {
            "text/plain": [
              "<Figure size 432x288 with 1 Axes>"
            ],
            "image/png": "[encoded data removed]"
          },
          "metadata": {
            "needs_background": "light"
          }
        }
      ]
    },
    {
      "cell_type": "code",
      "source": [
        "correlacao(l1, l2)"
      ],
      "metadata": {
        "colab": {
          "base_uri": "https://localhost:8080/"
        },
        "id": "ySqz1Wzqluuh",
        "outputId": "6d0a3dd4-186f-4c49-9e7d-0535f60272a2"
      },
      "execution_count": null,
      "outputs": [
        {
          "output_type": "execute_result",
          "data": {
            "text/plain": [
              "1.0"
            ]
          },
          "metadata": {},
          "execution_count": 76
        }
      ]
    },
    {
      "cell_type": "code",
      "source": [
        "covariancia(l1, l2)\n"
      ],
      "metadata": {
        "colab": {
          "base_uri": "https://localhost:8080/"
        },
        "id": "IzsJJd9lqNMi",
        "outputId": "01400c61-c511-4362-e1af-3b36375c024f"
      },
      "execution_count": null,
      "outputs": [
        {
          "output_type": "execute_result",
          "data": {
            "text/plain": [
              "-2.313725490196078"
            ]
          },
          "metadata": {},
          "execution_count": 73
        }
      ]
    }
  ]
}